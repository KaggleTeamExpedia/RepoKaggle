{
 "cells": [
  {
   "cell_type": "markdown",
   "metadata": {},
   "source": [
    "# Chargement des données"
   ]
  },
  {
   "cell_type": "code",
   "execution_count": 1,
   "metadata": {
    "collapsed": true
   },
   "outputs": [],
   "source": [
    "# changement du repretoire courant\n",
    "import os\n",
    "local = \"/Users/greg\" # modifier avec votre env, ....\n",
    "drive = \"/Google Drive/Expedia/data\"\n",
    "localpath = local+drive\n",
    "os.chdir(localpath)"
   ]
  },
  {
   "cell_type": "code",
   "execution_count": 2,
   "metadata": {
    "collapsed": false
   },
   "outputs": [],
   "source": [
    "import pandas as pd\n",
    "import numpy as np\n",
    "import matplotlib.pyplot as plt\n",
    "%matplotlib inline\n",
    "import time"
   ]
  },
  {
   "cell_type": "markdown",
   "metadata": {},
   "source": [
    "## destination.cvs"
   ]
  },
  {
   "cell_type": "code",
   "execution_count": 3,
   "metadata": {
    "collapsed": false
   },
   "outputs": [
    {
     "name": "stdout",
     "output_type": "stream",
     "text": [
      "...done in 3.1 s....\n"
     ]
    }
   ],
   "source": [
    "startTime = time.time()\n",
    "destinations = pd.read_csv('destinations.csv')\n",
    "print(\"...done in %0.1f s....\" % (time.time() - startTime))"
   ]
  },
  {
   "cell_type": "code",
   "execution_count": 4,
   "metadata": {
    "collapsed": false
   },
   "outputs": [
    {
     "data": {
      "text/plain": [
       "(62106, 150)"
      ]
     },
     "execution_count": 4,
     "metadata": {},
     "output_type": "execute_result"
    }
   ],
   "source": [
    "destinations.shape"
   ]
  },
  {
   "cell_type": "code",
   "execution_count": 5,
   "metadata": {
    "collapsed": false
   },
   "outputs": [
    {
     "data": {
      "text/html": [
       "<div>\n",
       "<table border=\"1\" class=\"dataframe\">\n",
       "  <thead>\n",
       "    <tr style=\"text-align: right;\">\n",
       "      <th></th>\n",
       "      <th>srch_destination_id</th>\n",
       "      <th>d1</th>\n",
       "      <th>d2</th>\n",
       "      <th>d3</th>\n",
       "      <th>d4</th>\n",
       "      <th>d5</th>\n",
       "      <th>d6</th>\n",
       "      <th>d7</th>\n",
       "      <th>d8</th>\n",
       "      <th>d9</th>\n",
       "      <th>...</th>\n",
       "      <th>d140</th>\n",
       "      <th>d141</th>\n",
       "      <th>d142</th>\n",
       "      <th>d143</th>\n",
       "      <th>d144</th>\n",
       "      <th>d145</th>\n",
       "      <th>d146</th>\n",
       "      <th>d147</th>\n",
       "      <th>d148</th>\n",
       "      <th>d149</th>\n",
       "    </tr>\n",
       "  </thead>\n",
       "  <tbody>\n",
       "    <tr>\n",
       "      <th>0</th>\n",
       "      <td>0</td>\n",
       "      <td>-2.198657</td>\n",
       "      <td>-2.198657</td>\n",
       "      <td>-2.198657</td>\n",
       "      <td>-2.198657</td>\n",
       "      <td>-2.198657</td>\n",
       "      <td>-1.897627</td>\n",
       "      <td>-2.198657</td>\n",
       "      <td>-2.198657</td>\n",
       "      <td>-1.897627</td>\n",
       "      <td>...</td>\n",
       "      <td>-2.198657</td>\n",
       "      <td>-2.198657</td>\n",
       "      <td>-2.198657</td>\n",
       "      <td>-2.198657</td>\n",
       "      <td>-2.198657</td>\n",
       "      <td>-2.198657</td>\n",
       "      <td>-2.198657</td>\n",
       "      <td>-2.198657</td>\n",
       "      <td>-2.198657</td>\n",
       "      <td>-2.198657</td>\n",
       "    </tr>\n",
       "    <tr>\n",
       "      <th>1</th>\n",
       "      <td>1</td>\n",
       "      <td>-2.181690</td>\n",
       "      <td>-2.181690</td>\n",
       "      <td>-2.181690</td>\n",
       "      <td>-2.082564</td>\n",
       "      <td>-2.181690</td>\n",
       "      <td>-2.165028</td>\n",
       "      <td>-2.181690</td>\n",
       "      <td>-2.181690</td>\n",
       "      <td>-2.031597</td>\n",
       "      <td>...</td>\n",
       "      <td>-2.165028</td>\n",
       "      <td>-2.181690</td>\n",
       "      <td>-2.165028</td>\n",
       "      <td>-2.181690</td>\n",
       "      <td>-2.181690</td>\n",
       "      <td>-2.165028</td>\n",
       "      <td>-2.181690</td>\n",
       "      <td>-2.181690</td>\n",
       "      <td>-2.181690</td>\n",
       "      <td>-2.181690</td>\n",
       "    </tr>\n",
       "    <tr>\n",
       "      <th>2</th>\n",
       "      <td>2</td>\n",
       "      <td>-2.183490</td>\n",
       "      <td>-2.224164</td>\n",
       "      <td>-2.224164</td>\n",
       "      <td>-2.189562</td>\n",
       "      <td>-2.105819</td>\n",
       "      <td>-2.075407</td>\n",
       "      <td>-2.224164</td>\n",
       "      <td>-2.118483</td>\n",
       "      <td>-2.140393</td>\n",
       "      <td>...</td>\n",
       "      <td>-2.224164</td>\n",
       "      <td>-2.224164</td>\n",
       "      <td>-2.196379</td>\n",
       "      <td>-2.224164</td>\n",
       "      <td>-2.192009</td>\n",
       "      <td>-2.224164</td>\n",
       "      <td>-2.224164</td>\n",
       "      <td>-2.224164</td>\n",
       "      <td>-2.224164</td>\n",
       "      <td>-2.057548</td>\n",
       "    </tr>\n",
       "  </tbody>\n",
       "</table>\n",
       "<p>3 rows × 150 columns</p>\n",
       "</div>"
      ],
      "text/plain": [
       "   srch_destination_id        d1        d2        d3        d4        d5  \\\n",
       "0                    0 -2.198657 -2.198657 -2.198657 -2.198657 -2.198657   \n",
       "1                    1 -2.181690 -2.181690 -2.181690 -2.082564 -2.181690   \n",
       "2                    2 -2.183490 -2.224164 -2.224164 -2.189562 -2.105819   \n",
       "\n",
       "         d6        d7        d8        d9    ...         d140      d141  \\\n",
       "0 -1.897627 -2.198657 -2.198657 -1.897627    ...    -2.198657 -2.198657   \n",
       "1 -2.165028 -2.181690 -2.181690 -2.031597    ...    -2.165028 -2.181690   \n",
       "2 -2.075407 -2.224164 -2.118483 -2.140393    ...    -2.224164 -2.224164   \n",
       "\n",
       "       d142      d143      d144      d145      d146      d147      d148  \\\n",
       "0 -2.198657 -2.198657 -2.198657 -2.198657 -2.198657 -2.198657 -2.198657   \n",
       "1 -2.165028 -2.181690 -2.181690 -2.165028 -2.181690 -2.181690 -2.181690   \n",
       "2 -2.196379 -2.224164 -2.192009 -2.224164 -2.224164 -2.224164 -2.224164   \n",
       "\n",
       "       d149  \n",
       "0 -2.198657  \n",
       "1 -2.181690  \n",
       "2 -2.057548  \n",
       "\n",
       "[3 rows x 150 columns]"
      ]
     },
     "execution_count": 5,
     "metadata": {},
     "output_type": "execute_result"
    }
   ],
   "source": [
    "destinations.head(3)"
   ]
  },
  {
   "cell_type": "code",
   "execution_count": 6,
   "metadata": {
    "collapsed": false
   },
   "outputs": [
    {
     "data": {
      "text/html": [
       "<div>\n",
       "<table border=\"1\" class=\"dataframe\">\n",
       "  <thead>\n",
       "    <tr style=\"text-align: right;\">\n",
       "      <th></th>\n",
       "      <th>srch_destination_id</th>\n",
       "      <th>d1</th>\n",
       "      <th>d2</th>\n",
       "      <th>d3</th>\n",
       "      <th>d4</th>\n",
       "      <th>d5</th>\n",
       "      <th>d6</th>\n",
       "      <th>d7</th>\n",
       "      <th>d8</th>\n",
       "      <th>d9</th>\n",
       "      <th>...</th>\n",
       "      <th>d140</th>\n",
       "      <th>d141</th>\n",
       "      <th>d142</th>\n",
       "      <th>d143</th>\n",
       "      <th>d144</th>\n",
       "      <th>d145</th>\n",
       "      <th>d146</th>\n",
       "      <th>d147</th>\n",
       "      <th>d148</th>\n",
       "      <th>d149</th>\n",
       "    </tr>\n",
       "  </thead>\n",
       "  <tbody>\n",
       "    <tr>\n",
       "      <th>count</th>\n",
       "      <td>62106.000000</td>\n",
       "      <td>62106.000000</td>\n",
       "      <td>62106.000000</td>\n",
       "      <td>62106.000000</td>\n",
       "      <td>62106.000000</td>\n",
       "      <td>62106.000000</td>\n",
       "      <td>62106.000000</td>\n",
       "      <td>62106.000000</td>\n",
       "      <td>62106.000000</td>\n",
       "      <td>62106.000000</td>\n",
       "      <td>...</td>\n",
       "      <td>62106.000000</td>\n",
       "      <td>62106.000000</td>\n",
       "      <td>62106.000000</td>\n",
       "      <td>62106.000000</td>\n",
       "      <td>62106.000000</td>\n",
       "      <td>62106.000000</td>\n",
       "      <td>62106.000000</td>\n",
       "      <td>62106.000000</td>\n",
       "      <td>62106.000000</td>\n",
       "      <td>62106.000000</td>\n",
       "    </tr>\n",
       "    <tr>\n",
       "      <th>mean</th>\n",
       "      <td>32359.463884</td>\n",
       "      <td>-2.193903</td>\n",
       "      <td>-2.202854</td>\n",
       "      <td>-2.207391</td>\n",
       "      <td>-2.194040</td>\n",
       "      <td>-2.161497</td>\n",
       "      <td>-2.045110</td>\n",
       "      <td>-2.202433</td>\n",
       "      <td>-2.203207</td>\n",
       "      <td>-2.107808</td>\n",
       "      <td>...</td>\n",
       "      <td>-2.204092</td>\n",
       "      <td>-2.196919</td>\n",
       "      <td>-2.203262</td>\n",
       "      <td>-2.205128</td>\n",
       "      <td>-2.201925</td>\n",
       "      <td>-2.203332</td>\n",
       "      <td>-2.202989</td>\n",
       "      <td>-2.208359</td>\n",
       "      <td>-2.208269</td>\n",
       "      <td>-2.199470</td>\n",
       "    </tr>\n",
       "    <tr>\n",
       "      <th>std</th>\n",
       "      <td>18711.765765</td>\n",
       "      <td>0.038576</td>\n",
       "      <td>0.041065</td>\n",
       "      <td>0.040092</td>\n",
       "      <td>0.041406</td>\n",
       "      <td>0.066197</td>\n",
       "      <td>0.135803</td>\n",
       "      <td>0.038886</td>\n",
       "      <td>0.036578</td>\n",
       "      <td>0.197904</td>\n",
       "      <td>...</td>\n",
       "      <td>0.037164</td>\n",
       "      <td>0.059914</td>\n",
       "      <td>0.046520</td>\n",
       "      <td>0.039465</td>\n",
       "      <td>0.041603</td>\n",
       "      <td>0.038239</td>\n",
       "      <td>0.051552</td>\n",
       "      <td>0.038035</td>\n",
       "      <td>0.038569</td>\n",
       "      <td>0.042438</td>\n",
       "    </tr>\n",
       "    <tr>\n",
       "      <th>min</th>\n",
       "      <td>0.000000</td>\n",
       "      <td>-2.597617</td>\n",
       "      <td>-2.671613</td>\n",
       "      <td>-2.671613</td>\n",
       "      <td>-2.671613</td>\n",
       "      <td>-2.671613</td>\n",
       "      <td>-2.344165</td>\n",
       "      <td>-2.671613</td>\n",
       "      <td>-2.671613</td>\n",
       "      <td>-2.495544</td>\n",
       "      <td>...</td>\n",
       "      <td>-2.620769</td>\n",
       "      <td>-2.671613</td>\n",
       "      <td>-2.671613</td>\n",
       "      <td>-2.671613</td>\n",
       "      <td>-2.671613</td>\n",
       "      <td>-2.671613</td>\n",
       "      <td>-2.671613</td>\n",
       "      <td>-2.671613</td>\n",
       "      <td>-2.671613</td>\n",
       "      <td>-2.671613</td>\n",
       "    </tr>\n",
       "    <tr>\n",
       "      <th>25%</th>\n",
       "      <td>16320.250000</td>\n",
       "      <td>-2.209336</td>\n",
       "      <td>-2.220192</td>\n",
       "      <td>-2.223679</td>\n",
       "      <td>-2.211437</td>\n",
       "      <td>-2.192158</td>\n",
       "      <td>-2.154267</td>\n",
       "      <td>-2.218745</td>\n",
       "      <td>-2.219086</td>\n",
       "      <td>-2.197704</td>\n",
       "      <td>...</td>\n",
       "      <td>-2.219630</td>\n",
       "      <td>-2.216147</td>\n",
       "      <td>-2.220347</td>\n",
       "      <td>-2.221893</td>\n",
       "      <td>-2.218394</td>\n",
       "      <td>-2.220500</td>\n",
       "      <td>-2.221748</td>\n",
       "      <td>-2.224618</td>\n",
       "      <td>-2.224290</td>\n",
       "      <td>-2.216428</td>\n",
       "    </tr>\n",
       "    <tr>\n",
       "      <th>50%</th>\n",
       "      <td>32277.500000</td>\n",
       "      <td>-2.185969</td>\n",
       "      <td>-2.193247</td>\n",
       "      <td>-2.195208</td>\n",
       "      <td>-2.188057</td>\n",
       "      <td>-2.178255</td>\n",
       "      <td>-2.088598</td>\n",
       "      <td>-2.192513</td>\n",
       "      <td>-2.192915</td>\n",
       "      <td>-2.177229</td>\n",
       "      <td>...</td>\n",
       "      <td>-2.192232</td>\n",
       "      <td>-2.190525</td>\n",
       "      <td>-2.192814</td>\n",
       "      <td>-2.194127</td>\n",
       "      <td>-2.191564</td>\n",
       "      <td>-2.192200</td>\n",
       "      <td>-2.193352</td>\n",
       "      <td>-2.196185</td>\n",
       "      <td>-2.195900</td>\n",
       "      <td>-2.190953</td>\n",
       "    </tr>\n",
       "    <tr>\n",
       "      <th>75%</th>\n",
       "      <td>48467.750000</td>\n",
       "      <td>-2.175309</td>\n",
       "      <td>-2.179261</td>\n",
       "      <td>-2.179990</td>\n",
       "      <td>-2.176763</td>\n",
       "      <td>-2.153317</td>\n",
       "      <td>-1.975940</td>\n",
       "      <td>-2.178976</td>\n",
       "      <td>-2.179164</td>\n",
       "      <td>-2.123598</td>\n",
       "      <td>...</td>\n",
       "      <td>-2.178093</td>\n",
       "      <td>-2.177777</td>\n",
       "      <td>-2.178996</td>\n",
       "      <td>-2.179475</td>\n",
       "      <td>-2.178335</td>\n",
       "      <td>-2.177590</td>\n",
       "      <td>-2.178927</td>\n",
       "      <td>-2.180602</td>\n",
       "      <td>-2.180380</td>\n",
       "      <td>-2.178088</td>\n",
       "    </tr>\n",
       "    <tr>\n",
       "      <th>max</th>\n",
       "      <td>64993.000000</td>\n",
       "      <td>-1.596004</td>\n",
       "      <td>-1.341325</td>\n",
       "      <td>-1.917826</td>\n",
       "      <td>-1.814585</td>\n",
       "      <td>-1.607558</td>\n",
       "      <td>-1.209058</td>\n",
       "      <td>-1.474441</td>\n",
       "      <td>-1.879678</td>\n",
       "      <td>-0.977219</td>\n",
       "      <td>...</td>\n",
       "      <td>-1.855317</td>\n",
       "      <td>-0.960356</td>\n",
       "      <td>-1.357408</td>\n",
       "      <td>-1.775218</td>\n",
       "      <td>-1.790435</td>\n",
       "      <td>-1.799341</td>\n",
       "      <td>-1.335962</td>\n",
       "      <td>-1.816892</td>\n",
       "      <td>-1.718778</td>\n",
       "      <td>-1.500309</td>\n",
       "    </tr>\n",
       "  </tbody>\n",
       "</table>\n",
       "<p>8 rows × 150 columns</p>\n",
       "</div>"
      ],
      "text/plain": [
       "       srch_destination_id            d1            d2            d3  \\\n",
       "count         62106.000000  62106.000000  62106.000000  62106.000000   \n",
       "mean          32359.463884     -2.193903     -2.202854     -2.207391   \n",
       "std           18711.765765      0.038576      0.041065      0.040092   \n",
       "min               0.000000     -2.597617     -2.671613     -2.671613   \n",
       "25%           16320.250000     -2.209336     -2.220192     -2.223679   \n",
       "50%           32277.500000     -2.185969     -2.193247     -2.195208   \n",
       "75%           48467.750000     -2.175309     -2.179261     -2.179990   \n",
       "max           64993.000000     -1.596004     -1.341325     -1.917826   \n",
       "\n",
       "                 d4            d5            d6            d7            d8  \\\n",
       "count  62106.000000  62106.000000  62106.000000  62106.000000  62106.000000   \n",
       "mean      -2.194040     -2.161497     -2.045110     -2.202433     -2.203207   \n",
       "std        0.041406      0.066197      0.135803      0.038886      0.036578   \n",
       "min       -2.671613     -2.671613     -2.344165     -2.671613     -2.671613   \n",
       "25%       -2.211437     -2.192158     -2.154267     -2.218745     -2.219086   \n",
       "50%       -2.188057     -2.178255     -2.088598     -2.192513     -2.192915   \n",
       "75%       -2.176763     -2.153317     -1.975940     -2.178976     -2.179164   \n",
       "max       -1.814585     -1.607558     -1.209058     -1.474441     -1.879678   \n",
       "\n",
       "                 d9      ...               d140          d141          d142  \\\n",
       "count  62106.000000      ...       62106.000000  62106.000000  62106.000000   \n",
       "mean      -2.107808      ...          -2.204092     -2.196919     -2.203262   \n",
       "std        0.197904      ...           0.037164      0.059914      0.046520   \n",
       "min       -2.495544      ...          -2.620769     -2.671613     -2.671613   \n",
       "25%       -2.197704      ...          -2.219630     -2.216147     -2.220347   \n",
       "50%       -2.177229      ...          -2.192232     -2.190525     -2.192814   \n",
       "75%       -2.123598      ...          -2.178093     -2.177777     -2.178996   \n",
       "max       -0.977219      ...          -1.855317     -0.960356     -1.357408   \n",
       "\n",
       "               d143          d144          d145          d146          d147  \\\n",
       "count  62106.000000  62106.000000  62106.000000  62106.000000  62106.000000   \n",
       "mean      -2.205128     -2.201925     -2.203332     -2.202989     -2.208359   \n",
       "std        0.039465      0.041603      0.038239      0.051552      0.038035   \n",
       "min       -2.671613     -2.671613     -2.671613     -2.671613     -2.671613   \n",
       "25%       -2.221893     -2.218394     -2.220500     -2.221748     -2.224618   \n",
       "50%       -2.194127     -2.191564     -2.192200     -2.193352     -2.196185   \n",
       "75%       -2.179475     -2.178335     -2.177590     -2.178927     -2.180602   \n",
       "max       -1.775218     -1.790435     -1.799341     -1.335962     -1.816892   \n",
       "\n",
       "               d148          d149  \n",
       "count  62106.000000  62106.000000  \n",
       "mean      -2.208269     -2.199470  \n",
       "std        0.038569      0.042438  \n",
       "min       -2.671613     -2.671613  \n",
       "25%       -2.224290     -2.216428  \n",
       "50%       -2.195900     -2.190953  \n",
       "75%       -2.180380     -2.178088  \n",
       "max       -1.718778     -1.500309  \n",
       "\n",
       "[8 rows x 150 columns]"
      ]
     },
     "execution_count": 6,
     "metadata": {},
     "output_type": "execute_result"
    }
   ],
   "source": [
    "destinations.describe()"
   ]
  },
  {
   "cell_type": "code",
   "execution_count": 7,
   "metadata": {
    "collapsed": false
   },
   "outputs": [
    {
     "data": {
      "text/plain": [
       "0"
      ]
     },
     "execution_count": 7,
     "metadata": {},
     "output_type": "execute_result"
    }
   ],
   "source": [
    "np.sum(np.array(destinations.isnull()))"
   ]
  },
  {
   "cell_type": "markdown",
   "metadata": {},
   "source": [
    "## test.csv"
   ]
  },
  {
   "cell_type": "code",
   "execution_count": 8,
   "metadata": {
    "collapsed": false
   },
   "outputs": [
    {
     "name": "stdout",
     "output_type": "stream",
     "text": [
      "...done in 12.4 s....\n"
     ]
    }
   ],
   "source": [
    "startTime = time.time()\n",
    "test = pd.read_csv(\"test.csv\")\n",
    "print(\"...done in %0.1f s....\" % (time.time() - startTime))"
   ]
  },
  {
   "cell_type": "code",
   "execution_count": 9,
   "metadata": {
    "collapsed": false
   },
   "outputs": [
    {
     "data": {
      "text/plain": [
       "(2528243, 22)"
      ]
     },
     "execution_count": 9,
     "metadata": {},
     "output_type": "execute_result"
    }
   ],
   "source": [
    "test.shape"
   ]
  },
  {
   "cell_type": "code",
   "execution_count": 10,
   "metadata": {
    "collapsed": false
   },
   "outputs": [
    {
     "data": {
      "text/html": [
       "<div>\n",
       "<table border=\"1\" class=\"dataframe\">\n",
       "  <thead>\n",
       "    <tr style=\"text-align: right;\">\n",
       "      <th></th>\n",
       "      <th>id</th>\n",
       "      <th>date_time</th>\n",
       "      <th>site_name</th>\n",
       "      <th>posa_continent</th>\n",
       "      <th>user_location_country</th>\n",
       "      <th>user_location_region</th>\n",
       "      <th>user_location_city</th>\n",
       "      <th>orig_destination_distance</th>\n",
       "      <th>user_id</th>\n",
       "      <th>is_mobile</th>\n",
       "      <th>...</th>\n",
       "      <th>srch_ci</th>\n",
       "      <th>srch_co</th>\n",
       "      <th>srch_adults_cnt</th>\n",
       "      <th>srch_children_cnt</th>\n",
       "      <th>srch_rm_cnt</th>\n",
       "      <th>srch_destination_id</th>\n",
       "      <th>srch_destination_type_id</th>\n",
       "      <th>hotel_continent</th>\n",
       "      <th>hotel_country</th>\n",
       "      <th>hotel_market</th>\n",
       "    </tr>\n",
       "  </thead>\n",
       "  <tbody>\n",
       "    <tr>\n",
       "      <th>0</th>\n",
       "      <td>0</td>\n",
       "      <td>2015-09-03 17:09:54</td>\n",
       "      <td>2</td>\n",
       "      <td>3</td>\n",
       "      <td>66</td>\n",
       "      <td>174</td>\n",
       "      <td>37449</td>\n",
       "      <td>5539.0567</td>\n",
       "      <td>1</td>\n",
       "      <td>1</td>\n",
       "      <td>...</td>\n",
       "      <td>2016-05-19</td>\n",
       "      <td>2016-05-23</td>\n",
       "      <td>2</td>\n",
       "      <td>0</td>\n",
       "      <td>1</td>\n",
       "      <td>12243</td>\n",
       "      <td>6</td>\n",
       "      <td>6</td>\n",
       "      <td>204</td>\n",
       "      <td>27</td>\n",
       "    </tr>\n",
       "    <tr>\n",
       "      <th>1</th>\n",
       "      <td>1</td>\n",
       "      <td>2015-09-24 17:38:35</td>\n",
       "      <td>2</td>\n",
       "      <td>3</td>\n",
       "      <td>66</td>\n",
       "      <td>174</td>\n",
       "      <td>37449</td>\n",
       "      <td>5873.2923</td>\n",
       "      <td>1</td>\n",
       "      <td>1</td>\n",
       "      <td>...</td>\n",
       "      <td>2016-05-12</td>\n",
       "      <td>2016-05-15</td>\n",
       "      <td>2</td>\n",
       "      <td>0</td>\n",
       "      <td>1</td>\n",
       "      <td>14474</td>\n",
       "      <td>7</td>\n",
       "      <td>6</td>\n",
       "      <td>204</td>\n",
       "      <td>1540</td>\n",
       "    </tr>\n",
       "  </tbody>\n",
       "</table>\n",
       "<p>2 rows × 22 columns</p>\n",
       "</div>"
      ],
      "text/plain": [
       "   id            date_time  site_name  posa_continent  user_location_country  \\\n",
       "0   0  2015-09-03 17:09:54          2               3                     66   \n",
       "1   1  2015-09-24 17:38:35          2               3                     66   \n",
       "\n",
       "   user_location_region  user_location_city  orig_destination_distance  \\\n",
       "0                   174               37449                  5539.0567   \n",
       "1                   174               37449                  5873.2923   \n",
       "\n",
       "   user_id  is_mobile      ...          srch_ci     srch_co srch_adults_cnt  \\\n",
       "0        1          1      ...       2016-05-19  2016-05-23               2   \n",
       "1        1          1      ...       2016-05-12  2016-05-15               2   \n",
       "\n",
       "  srch_children_cnt  srch_rm_cnt  srch_destination_id  \\\n",
       "0                 0            1                12243   \n",
       "1                 0            1                14474   \n",
       "\n",
       "   srch_destination_type_id  hotel_continent  hotel_country  hotel_market  \n",
       "0                         6                6            204            27  \n",
       "1                         7                6            204          1540  \n",
       "\n",
       "[2 rows x 22 columns]"
      ]
     },
     "execution_count": 10,
     "metadata": {},
     "output_type": "execute_result"
    }
   ],
   "source": [
    "test.head(2)"
   ]
  },
  {
   "cell_type": "code",
   "execution_count": 11,
   "metadata": {
    "collapsed": false
   },
   "outputs": [
    {
     "data": {
      "text/plain": [
       "id                                0\n",
       "date_time                         0\n",
       "site_name                         0\n",
       "posa_continent                    0\n",
       "user_location_country             0\n",
       "user_location_region              0\n",
       "user_location_city                0\n",
       "orig_destination_distance    847461\n",
       "user_id                           0\n",
       "is_mobile                         0\n",
       "is_package                        0\n",
       "channel                           0\n",
       "srch_ci                          21\n",
       "srch_co                          17\n",
       "srch_adults_cnt                   0\n",
       "srch_children_cnt                 0\n",
       "srch_rm_cnt                       0\n",
       "srch_destination_id               0\n",
       "srch_destination_type_id          0\n",
       "hotel_continent                   0\n",
       "hotel_country                     0\n",
       "hotel_market                      0\n",
       "dtype: int64"
      ]
     },
     "execution_count": 11,
     "metadata": {},
     "output_type": "execute_result"
    }
   ],
   "source": [
    "np.sum(test.isnull())"
   ]
  },
  {
   "cell_type": "markdown",
   "metadata": {},
   "source": [
    "## train.csv"
   ]
  },
  {
   "cell_type": "code",
   "execution_count": 12,
   "metadata": {
    "collapsed": false
   },
   "outputs": [
    {
     "name": "stdout",
     "output_type": "stream",
     "text": [
      "...done in 340.5 s....\n"
     ]
    }
   ],
   "source": [
    "drive = \"/Google Drive/Expedia\"\n",
    "localpath = local+drive\n",
    "os.chdir(localpath)\n",
    "startTime = time.time()\n",
    "train = pd.read_csv(\"train.csv\")\n",
    "print(\"...done in %0.1f s....\" % (time.time() - startTime))"
   ]
  },
  {
   "cell_type": "code",
   "execution_count": 13,
   "metadata": {
    "collapsed": false
   },
   "outputs": [
    {
     "data": {
      "text/plain": [
       "(37670293, 24)"
      ]
     },
     "execution_count": 13,
     "metadata": {},
     "output_type": "execute_result"
    }
   ],
   "source": [
    "train.shape"
   ]
  },
  {
   "cell_type": "code",
   "execution_count": 14,
   "metadata": {
    "collapsed": false
   },
   "outputs": [
    {
     "data": {
      "text/html": [
       "<div>\n",
       "<table border=\"1\" class=\"dataframe\">\n",
       "  <thead>\n",
       "    <tr style=\"text-align: right;\">\n",
       "      <th></th>\n",
       "      <th>date_time</th>\n",
       "      <th>site_name</th>\n",
       "      <th>posa_continent</th>\n",
       "      <th>user_location_country</th>\n",
       "      <th>user_location_region</th>\n",
       "      <th>user_location_city</th>\n",
       "      <th>orig_destination_distance</th>\n",
       "      <th>user_id</th>\n",
       "      <th>is_mobile</th>\n",
       "      <th>is_package</th>\n",
       "      <th>...</th>\n",
       "      <th>srch_children_cnt</th>\n",
       "      <th>srch_rm_cnt</th>\n",
       "      <th>srch_destination_id</th>\n",
       "      <th>srch_destination_type_id</th>\n",
       "      <th>is_booking</th>\n",
       "      <th>cnt</th>\n",
       "      <th>hotel_continent</th>\n",
       "      <th>hotel_country</th>\n",
       "      <th>hotel_market</th>\n",
       "      <th>hotel_cluster</th>\n",
       "    </tr>\n",
       "  </thead>\n",
       "  <tbody>\n",
       "    <tr>\n",
       "      <th>0</th>\n",
       "      <td>2014-08-11 07:46:59</td>\n",
       "      <td>2</td>\n",
       "      <td>3</td>\n",
       "      <td>66</td>\n",
       "      <td>348</td>\n",
       "      <td>48862</td>\n",
       "      <td>2234.2641</td>\n",
       "      <td>12</td>\n",
       "      <td>0</td>\n",
       "      <td>1</td>\n",
       "      <td>...</td>\n",
       "      <td>0</td>\n",
       "      <td>1</td>\n",
       "      <td>8250</td>\n",
       "      <td>1</td>\n",
       "      <td>0</td>\n",
       "      <td>3</td>\n",
       "      <td>2</td>\n",
       "      <td>50</td>\n",
       "      <td>628</td>\n",
       "      <td>1</td>\n",
       "    </tr>\n",
       "    <tr>\n",
       "      <th>1</th>\n",
       "      <td>2014-08-11 08:22:12</td>\n",
       "      <td>2</td>\n",
       "      <td>3</td>\n",
       "      <td>66</td>\n",
       "      <td>348</td>\n",
       "      <td>48862</td>\n",
       "      <td>2234.2641</td>\n",
       "      <td>12</td>\n",
       "      <td>0</td>\n",
       "      <td>1</td>\n",
       "      <td>...</td>\n",
       "      <td>0</td>\n",
       "      <td>1</td>\n",
       "      <td>8250</td>\n",
       "      <td>1</td>\n",
       "      <td>1</td>\n",
       "      <td>1</td>\n",
       "      <td>2</td>\n",
       "      <td>50</td>\n",
       "      <td>628</td>\n",
       "      <td>1</td>\n",
       "    </tr>\n",
       "  </tbody>\n",
       "</table>\n",
       "<p>2 rows × 24 columns</p>\n",
       "</div>"
      ],
      "text/plain": [
       "             date_time  site_name  posa_continent  user_location_country  \\\n",
       "0  2014-08-11 07:46:59          2               3                     66   \n",
       "1  2014-08-11 08:22:12          2               3                     66   \n",
       "\n",
       "   user_location_region  user_location_city  orig_destination_distance  \\\n",
       "0                   348               48862                  2234.2641   \n",
       "1                   348               48862                  2234.2641   \n",
       "\n",
       "   user_id  is_mobile  is_package      ...        srch_children_cnt  \\\n",
       "0       12          0           1      ...                        0   \n",
       "1       12          0           1      ...                        0   \n",
       "\n",
       "  srch_rm_cnt srch_destination_id  srch_destination_type_id  is_booking  cnt  \\\n",
       "0           1                8250                         1           0    3   \n",
       "1           1                8250                         1           1    1   \n",
       "\n",
       "   hotel_continent  hotel_country  hotel_market  hotel_cluster  \n",
       "0                2             50           628              1  \n",
       "1                2             50           628              1  \n",
       "\n",
       "[2 rows x 24 columns]"
      ]
     },
     "execution_count": 14,
     "metadata": {},
     "output_type": "execute_result"
    }
   ],
   "source": [
    "train.head(2)"
   ]
  },
  {
   "cell_type": "code",
   "execution_count": 15,
   "metadata": {
    "collapsed": false
   },
   "outputs": [
    {
     "data": {
      "text/plain": [
       "date_time                           0\n",
       "site_name                           0\n",
       "posa_continent                      0\n",
       "user_location_country               0\n",
       "user_location_region                0\n",
       "user_location_city                  0\n",
       "orig_destination_distance    13525001\n",
       "user_id                             0\n",
       "is_mobile                           0\n",
       "is_package                          0\n",
       "channel                             0\n",
       "srch_ci                         47083\n",
       "srch_co                         47084\n",
       "srch_adults_cnt                     0\n",
       "srch_children_cnt                   0\n",
       "srch_rm_cnt                         0\n",
       "srch_destination_id                 0\n",
       "srch_destination_type_id            0\n",
       "is_booking                          0\n",
       "cnt                                 0\n",
       "hotel_continent                     0\n",
       "hotel_country                       0\n",
       "hotel_market                        0\n",
       "hotel_cluster                       0\n",
       "dtype: int64"
      ]
     },
     "execution_count": 15,
     "metadata": {},
     "output_type": "execute_result"
    }
   ],
   "source": [
    "np.sum(train.isnull())"
   ]
  },
  {
   "cell_type": "markdown",
   "metadata": {},
   "source": [
    "orig_destination_distance est manquant dans presque 50% des cas"
   ]
  },
  {
   "cell_type": "markdown",
   "metadata": {},
   "source": [
    "# Exploration des données avant sub-sampling\n",
    "## Colonnes de train.csv et test.csv"
   ]
  },
  {
   "cell_type": "code",
   "execution_count": 16,
   "metadata": {
    "collapsed": false
   },
   "outputs": [
    {
     "name": "stdout",
     "output_type": "stream",
     "text": [
      "['date_time', 'site_name', 'posa_continent', 'user_location_country', 'user_location_region', 'user_location_city', 'orig_destination_distance', 'user_id', 'is_mobile', 'is_package', 'channel', 'srch_ci', 'srch_co', 'srch_adults_cnt', 'srch_children_cnt', 'srch_rm_cnt', 'srch_destination_id', 'srch_destination_type_id', 'is_booking', 'cnt', 'hotel_continent', 'hotel_country', 'hotel_market', 'hotel_cluster']\n",
      "Nombre de colonnes Train 24\n"
     ]
    }
   ],
   "source": [
    "print list(train.columns)\n",
    "print(\"Nombre de colonnes Train %i\" % (len(list(train.columns))))"
   ]
  },
  {
   "cell_type": "code",
   "execution_count": 17,
   "metadata": {
    "collapsed": false
   },
   "outputs": [
    {
     "name": "stdout",
     "output_type": "stream",
     "text": [
      "['id', 'date_time', 'site_name', 'posa_continent', 'user_location_country', 'user_location_region', 'user_location_city', 'orig_destination_distance', 'user_id', 'is_mobile', 'is_package', 'channel', 'srch_ci', 'srch_co', 'srch_adults_cnt', 'srch_children_cnt', 'srch_rm_cnt', 'srch_destination_id', 'srch_destination_type_id', 'hotel_continent', 'hotel_country', 'hotel_market']\n",
      "Nombre de colonnes Train 22\n"
     ]
    }
   ],
   "source": [
    "print list(test.columns)\n",
    "print(\"Nombre de colonnes Train %i\" % (len(list(test.columns))))"
   ]
  },
  {
   "cell_type": "code",
   "execution_count": 18,
   "metadata": {
    "collapsed": false
   },
   "outputs": [
    {
     "name": "stdout",
     "output_type": "stream",
     "text": [
      "Colonnes de train.csv absentes de test.csv\n",
      "set(['hotel_cluster', 'cnt', 'is_booking'])\n",
      "Colonnes de test.csv absentes de train.csv\n",
      "set(['id'])\n"
     ]
    }
   ],
   "source": [
    "train_col = set(list(train.columns))\n",
    "test_col = set(list(test.columns))\n",
    "print(\"Colonnes de train.csv absentes de test.csv\")\n",
    "print train_col-test_col\n",
    "print(\"Colonnes de test.csv absentes de train.csv\")\n",
    "print test_col-train_col"
   ]
  },
  {
   "cell_type": "code",
   "execution_count": 19,
   "metadata": {
    "collapsed": false
   },
   "outputs": [
    {
     "name": "stdout",
     "output_type": "stream",
     "text": [
      "Taille base d'entrainement : 37670293\n",
      "Taille base de test : 2528243\n"
     ]
    }
   ],
   "source": [
    "n_train = train.shape[0]\n",
    "n_test = test.shape[0]\n",
    "print(\"Taille base d'entrainement : %i\" % n_train)\n",
    "print(\"Taille base de test : %i\" % n_test)"
   ]
  },
  {
   "cell_type": "markdown",
   "metadata": {},
   "source": [
    "### hotel_cluster\n",
    "C'est le champ à prévoir"
   ]
  },
  {
   "cell_type": "code",
   "execution_count": 20,
   "metadata": {
    "collapsed": false
   },
   "outputs": [
    {
     "name": "stdout",
     "output_type": "stream",
     "text": [
      "[ 1 80 21 92 41 69 70 98 10 18 28 25  2 16 94 77 24 58 36 82 46 30 29 57 85\n",
      "  5 59 62 81  6 53  8 73 26 95 13 42  9 55 91 72 65 56 68 75 38 67 78 43 37\n",
      " 99 35 20 90 50 22 64 60 11 97 89 83 14 51 15 40 45 84 54 76 17 49 32  7 88\n",
      " 79  4 39 47 19 33 48 93  0 34 63 96 44  3 12 86 71 61 66 52 87 31 27 23 74]\n",
      "100\n"
     ]
    }
   ],
   "source": [
    "print train[\"hotel_cluster\"].unique()\n",
    "print len(train[\"hotel_cluster\"].unique())"
   ]
  },
  {
   "cell_type": "code",
   "execution_count": 21,
   "metadata": {
    "collapsed": false
   },
   "outputs": [
    {
     "name": "stdout",
     "output_type": "stream",
     "text": [
      "...done in 0.3 s....\n",
      "Distribution des clusters\n",
      "Axes(0.125,0.125;0.775x0.775)\n"
     ]
    },
    {
     "data": {
      "image/png": "[encoded data removed]",
      "text/plain": [
       "<matplotlib.figure.Figure at 0x103df7c10>"
      ]
     },
     "metadata": {},
     "output_type": "display_data"
    }
   ],
   "source": [
    "startTime = time.time()\n",
    "cluster_occurence =  train[\"hotel_cluster\"].value_counts()\n",
    "print(\"...done in %0.1f s....\" % (time.time() - startTime))  \n",
    "print(\"Distribution des clusters\")\n",
    "print cluster_occurence.hist(color='b',alpha=0.5)"
   ]
  },
  {
   "cell_type": "code",
   "execution_count": 22,
   "metadata": {
    "collapsed": false
   },
   "outputs": [
    {
     "name": "stdout",
     "output_type": "stream",
     "text": [
      "Les 5 cluster les plus courants\n",
      "91    1043720\n",
      "41     772743\n",
      "48     754033\n",
      "64     704734\n",
      "65     670960\n",
      "Name: hotel_cluster, dtype: int64\n",
      "[91, 41, 48, 64, 65]\n"
     ]
    }
   ],
   "source": [
    "print(\"Les 5 cluster les plus courants\")\n",
    "print cluster_occurence.head(5)\n",
    "top_5_clusters = list(cluster_occurence[0:5].index)\n",
    "print top_5_clusters"
   ]
  },
  {
   "cell_type": "code",
   "execution_count": 23,
   "metadata": {
    "collapsed": false
   },
   "outputs": [
    {
     "name": "stdout",
     "output_type": "stream",
     "text": [
      "Le plus d'occurrences: cluster 91 avec n=1043720 soit 2.8%\n",
      "Le moins d'occurrences: cluster 74 avec n=48355 soit 0.1%\n",
      "Rapport entre la classe la plus féquente et la moins fréquente 21.0\n"
     ]
    }
   ],
   "source": [
    "idx_max = cluster_occurence.idxmax()\n",
    "idx_min = cluster_occurence.idxmin()\n",
    "print(\"Le plus d'occurrences: cluster %i avec n=%i soit %0.1f%%\" \n",
    "      % (idx_max,cluster_occurence[idx_max],100*cluster_occurence[idx_max]/float(n_train)))\n",
    "print(\"Le moins d'occurrences: cluster %i avec n=%i soit %0.1f%%\" \n",
    "      % (idx_min,cluster_occurence[idx_min],100*cluster_occurence[idx_min]/float(n_train)))\n",
    "print(\"Rapport entre la classe la plus féquente et la moins fréquente %0.1f\"\n",
    "      % (cluster_occurence[idx_max]/cluster_occurence[idx_min]))"
   ]
  },
  {
   "cell_type": "code",
   "execution_count": 24,
   "metadata": {
    "collapsed": false
   },
   "outputs": [
    {
     "data": {
      "image/png": "[encoded data removed]",
      "text/plain": [
       "<matplotlib.figure.Figure at 0x235076950>"
      ]
     },
     "metadata": {},
     "output_type": "display_data"
    }
   ],
   "source": [
    "fig = plt.figure( figsize=(12, 3))\n",
    "ind = np.arange(100)    # the x locations for the groups\n",
    "\n",
    "p = plt.bar(ind, 100*cluster_occurence/float(n_train), 1, color='b',alpha=0.5)\n",
    "plt.ylabel('Occurence dans train.csv (%)')\n",
    "plt.title(u'Top hotel clusters\\nfichier train.csv ')\n",
    "plt.xticks(ind + 1/2.0, cluster_occurence.index, rotation = 90)\n",
    "\n",
    "plt.show()"
   ]
  },
  {
   "cell_type": "markdown",
   "metadata": {},
   "source": [
    "### is_booking"
   ]
  },
  {
   "cell_type": "code",
   "execution_count": 25,
   "metadata": {
    "collapsed": false
   },
   "outputs": [
    {
     "name": "stdout",
     "output_type": "stream",
     "text": [
      "...done in 0.9 s....\n",
      "0    34669600\n",
      "1     3000693\n",
      "Name: is_booking, dtype: int64\n",
      "Ratio booked vs total 7.97 %\n"
     ]
    }
   ],
   "source": [
    "startTime = time.time()\n",
    "is_booking_occurence =  train[\"is_booking\"].value_counts()\n",
    "print(\"...done in %0.1f s....\" % (time.time() - startTime))  \n",
    "print is_booking_occurence\n",
    "print(u\"Ratio booked vs total %0.2f %%\" % (100*(is_booking_occurence[1]/float(n_train))))"
   ]
  },
  {
   "cell_type": "code",
   "execution_count": 26,
   "metadata": {
    "collapsed": false
   },
   "outputs": [
    {
     "name": "stdout",
     "output_type": "stream",
     "text": [
      "Les 5 cluster booked les plus courants\n",
      "91    120972\n",
      "48     85377\n",
      "42     73123\n",
      "59     66609\n",
      "28     63978\n",
      "Name: hotel_cluster, dtype: int64\n",
      "[91, 48, 42, 59, 28]\n",
      "Le plus d'occurrences: cluster 91 avec n=120972 soit 2.8%\n",
      "Le moins d'occurrences: cluster 74 avec n=2465 soit 0.1%\n",
      "Rapport entre la classe la plus féquente et la moins fréquente 49.0\n"
     ]
    }
   ],
   "source": [
    "cluster_booked_occurence = train.loc[train.loc[:,\"is_booking\"]==1,\"hotel_cluster\"].value_counts()\n",
    "\n",
    "print(\"Les 5 cluster booked les plus courants\")\n",
    "print cluster_booked_occurence.head(5)\n",
    "top_5_clusters_booked = list(cluster_booked_occurence[0:5].index)\n",
    "print top_5_clusters_booked\n",
    "\n",
    "idx_bmax= cluster_booked_occurence.idxmax()\n",
    "idx_bmin = cluster_booked_occurence.idxmin()\n",
    "print(\"Le plus d'occurrences: cluster %i avec n=%i soit %0.1f%%\" \n",
    "      % (idx_max,cluster_booked_occurence[idx_max],100*cluster_occurence[idx_max]/float(n_train)))\n",
    "print(\"Le moins d'occurrences: cluster %i avec n=%i soit %0.1f%%\" \n",
    "      % (idx_min,cluster_booked_occurence[idx_min],100*cluster_occurence[idx_min]/float(n_train)))\n",
    "print(\"Rapport entre la classe la plus féquente et la moins fréquente %0.1f\"\n",
    "      % (cluster_booked_occurence[idx_max]/cluster_booked_occurence[idx_min]))"
   ]
  },
  {
   "cell_type": "markdown",
   "metadata": {},
   "source": [
    "### user_id"
   ]
  },
  {
   "cell_type": "code",
   "execution_count": 27,
   "metadata": {
    "collapsed": false
   },
   "outputs": [
    {
     "data": {
      "text/plain": [
       "37670293"
      ]
     },
     "execution_count": 27,
     "metadata": {},
     "output_type": "execute_result"
    }
   ],
   "source": [
    "n_train"
   ]
  },
  {
   "cell_type": "code",
   "execution_count": 28,
   "metadata": {
    "collapsed": false
   },
   "outputs": [
    {
     "name": "stdout",
     "output_type": "stream",
     "text": [
      "inclusion des utilisateurs de test dans train\n"
     ]
    },
    {
     "data": {
      "text/plain": [
       "True"
      ]
     },
     "execution_count": 28,
     "metadata": {},
     "output_type": "execute_result"
    }
   ],
   "source": [
    "print(\"inclusion des utilisateurs de test dans train\")\n",
    "test_ids = set(test.user_id.unique())\n",
    "train_ids = set(train.user_id.unique())\n",
    "intersection_count = len(test_ids & train_ids)\n",
    "intersection_count == len(test_ids)"
   ]
  },
  {
   "cell_type": "markdown",
   "metadata": {},
   "source": [
    "Les utilisateurs de test sont tous dans le train\n",
    "user_id test inclus user_id train"
   ]
  },
  {
   "cell_type": "code",
   "execution_count": 29,
   "metadata": {
    "collapsed": false
   },
   "outputs": [
    {
     "name": "stdout",
     "output_type": "stream",
     "text": [
      "Nombre d'utilisateurs uniques : 1198786 \n"
     ]
    }
   ],
   "source": [
    "print(\"Nombre d'utilisateurs uniques : %i \" % (len(train_ids)))"
   ]
  },
  {
   "cell_type": "code",
   "execution_count": 30,
   "metadata": {
    "collapsed": false
   },
   "outputs": [
    {
     "name": "stdout",
     "output_type": "stream",
     "text": [
      "Nombre moyenne de recherche par utilisateur unique  : 31 \n"
     ]
    }
   ],
   "source": [
    "print(\"Nombre moyenne de recherche par utilisateur unique  : %0.f \" % (n_train/float(len(train_ids))))"
   ]
  },
  {
   "cell_type": "code",
   "execution_count": 31,
   "metadata": {
    "collapsed": false
   },
   "outputs": [
    {
     "name": "stdout",
     "output_type": "stream",
     "text": [
      "Nombre moyenne d'achat par utilisateurs unique  : 3.7 \n"
     ]
    }
   ],
   "source": [
    "booked_ids = train.loc[train.loc[:,\"is_booking\"]==1,\"user_id\"].unique()\n",
    "n_ids = len(booked_ids)\n",
    "n_booked = is_booking_occurence[1]\n",
    "print(\"Nombre moyenne d'achat par utilisateurs unique  : %0.1f \" % (n_booked/float(n_ids)))"
   ]
  },
  {
   "cell_type": "markdown",
   "metadata": {},
   "source": [
    "### cnt  \n",
    "Numer of similar events in the context of the same user session\n",
    "???\n"
   ]
  },
  {
   "cell_type": "code",
   "execution_count": 32,
   "metadata": {
    "collapsed": false
   },
   "outputs": [
    {
     "name": "stdout",
     "output_type": "stream",
     "text": [
      "...done in 1.5 s....\n",
      "D cnt\n",
      "1     28091115\n",
      "2      5686424\n",
      "3      2024726\n",
      "4       842356\n",
      "5       426092\n",
      "6       224373\n",
      "7       132234\n",
      "8        78360\n",
      "9        51009\n",
      "10       32763\n",
      "Name: cnt, dtype: int64\n"
     ]
    }
   ],
   "source": [
    "startTime = time.time()\n",
    "cnt =  train[\"cnt\"].value_counts()\n",
    "print(\"...done in %0.1f s....\" % (time.time() - startTime))  \n",
    "print(\"D cnt\")\n",
    "print cnt[:10]"
   ]
  },
  {
   "cell_type": "markdown",
   "metadata": {},
   "source": [
    "### id de test.csv"
   ]
  },
  {
   "cell_type": "code",
   "execution_count": 33,
   "metadata": {
    "collapsed": false
   },
   "outputs": [
    {
     "name": "stdout",
     "output_type": "stream",
     "text": [
      "nombre de id uniques dans test.csv: 2528243\n",
      "nombre de lignes dans test.csv: 2528243\n",
      "id identifiant unique de test.csv ? \n",
      "True\n"
     ]
    }
   ],
   "source": [
    "ids =  test[\"id\"].value_counts()\n",
    "print(\"nombre de id uniques dans test.csv: %i\" %(len(ids)))\n",
    "print(\"nombre de lignes dans test.csv: %i\" % n_test)\n",
    "print(\"id identifiant unique de test.csv ? \")\n",
    "print((len(ids))==n_test)"
   ]
  },
  {
   "cell_type": "code",
   "execution_count": 34,
   "metadata": {
    "collapsed": false
   },
   "outputs": [
    {
     "name": "stdout",
     "output_type": "stream",
     "text": [
      "2528243\n"
     ]
    }
   ],
   "source": [
    "print test.shape[0]"
   ]
  },
  {
   "cell_type": "markdown",
   "metadata": {},
   "source": [
    "### Dates et convertion des formats de dates"
   ]
  },
  {
   "cell_type": "code",
   "execution_count": 35,
   "metadata": {
    "collapsed": false
   },
   "outputs": [
    {
     "name": "stdout",
     "output_type": "stream",
     "text": [
      "2014-08-11 07:46:59 <type 'str'>\n",
      "2014-08-27 <type 'str'>\n",
      "2014-08-31 <type 'str'>\n",
      "2015-09-03 17:09:54 <type 'str'>\n",
      "2016-05-19 <type 'str'>\n",
      "2016-05-23 <type 'str'>\n"
     ]
    }
   ],
   "source": [
    "print train.date_time[0],type(train.date_time[0])\n",
    "print train.srch_ci[0], type(train.srch_ci[0])\n",
    "print train.srch_co[0],type(train.srch_co[0])\n",
    "print test.date_time[0],type(train.date_time[0])\n",
    "print test.srch_ci[0], type(train.srch_ci[0])\n",
    "print test.srch_co[0],type(train.srch_co[0])"
   ]
  },
  {
   "cell_type": "code",
   "execution_count": 36,
   "metadata": {
    "collapsed": false
   },
   "outputs": [
    {
     "name": "stdout",
     "output_type": "stream",
     "text": [
      "...done in 26.9 s....\n",
      "2014-08-11 07:46:59 <class 'pandas.tslib.Timestamp'>\n",
      "...done in 3.1 s....\n",
      "2015-09-03 17:09:54 <class 'pandas.tslib.Timestamp'>\n"
     ]
    }
   ],
   "source": [
    "startTime = time.time()\n",
    "train[\"date_time\"] = pd.to_datetime(train[\"date_time\"])\n",
    "print(\"...done in %0.1f s....\" % (time.time() - startTime))  \n",
    "print train.date_time[0],type(train.date_time[0])\n",
    "startTime = time.time()\n",
    "test[\"date_time\"] = pd.to_datetime(test[\"date_time\"])\n",
    "print(\"...done in %0.1f s....\" % (time.time() - startTime))  \n",
    "print test.date_time[0],type(test.date_time[0])"
   ]
  },
  {
   "cell_type": "code",
   "execution_count": 37,
   "metadata": {
    "collapsed": false
   },
   "outputs": [
    {
     "name": "stdout",
     "output_type": "stream",
     "text": [
      "...done in 25.1 s....\n",
      "2014-08-27 00:00:00 <class 'pandas.tslib.Timestamp'>\n",
      "2014-08-31 00:00:00 <class 'pandas.tslib.Timestamp'>\n",
      "2016-05-19 00:00:00 <class 'pandas.tslib.Timestamp'>\n",
      "2016-05-23 00:00:00 <class 'pandas.tslib.Timestamp'>\n"
     ]
    }
   ],
   "source": [
    "startTime = time.time()\n",
    "train[\"srch_ci\"] = pd.to_datetime(train[\"srch_ci\"], format='%Y-%m-%d', errors=\"coerce\")\n",
    "train[\"srch_co\"] = pd.to_datetime(train[\"srch_co\"], format='%Y-%m-%d', errors=\"coerce\")\n",
    "test[\"srch_ci\"] = pd.to_datetime(test[\"srch_ci\"], format='%Y-%m-%d', errors=\"coerce\")\n",
    "test[\"srch_co\"] = pd.to_datetime(test[\"srch_co\"], format='%Y-%m-%d', errors=\"coerce\")\n",
    "print(\"...done in %0.1f s....\" % (time.time() - startTime))  \n",
    "\n",
    "print train.srch_ci[0], type(train.srch_ci[0])\n",
    "print train.srch_co[0],type(train.srch_co[0])\n",
    "print test.srch_ci[0], type(train.srch_ci[0])\n",
    "print test.srch_co[0],type(train.srch_co[0])\n",
    "# errors=\"coerce\" ???"
   ]
  },
  {
   "cell_type": "code",
   "execution_count": 38,
   "metadata": {
    "collapsed": false
   },
   "outputs": [
    {
     "data": {
      "image/png": "[encoded data removed]",
      "text/plain": [
       "<matplotlib.figure.Figure at 0x33f465d10>"
      ]
     },
     "metadata": {},
     "output_type": "display_data"
    }
   ],
   "source": [
    "fig= train[\"date_time\"].hist(bins = 24,color='b',alpha=0.5)\n",
    "plt.title(u\"Historique l'activité de recherche\\ntrain.csv\")\n",
    "plt.xticks(rotation = 90)\n",
    "#plt.xticks( np.arange(12), calendar.month_name[1:13], rotation=17 )\n",
    "plt.show()"
   ]
  },
  {
   "cell_type": "code",
   "execution_count": 39,
   "metadata": {
    "collapsed": false
   },
   "outputs": [
    {
     "data": {
      "image/png": "[encoded data removed]",
      "text/plain": [
       "<matplotlib.figure.Figure at 0x116cb56d0>"
      ]
     },
     "metadata": {},
     "output_type": "display_data"
    }
   ],
   "source": [
    "fig= test[\"date_time\"].hist(bins = 24,color='b',alpha=0.5)\n",
    "plt.title(u\"Historique l'activité de recherche\\ntest.csv\")\n",
    "plt.xticks(rotation = 90)\n",
    "#plt.xticks( np.arange(12), calendar.month_name[1:13], rotation=17 )\n",
    "plt.show()"
   ]
  },
  {
   "cell_type": "code",
   "execution_count": 40,
   "metadata": {
    "collapsed": false
   },
   "outputs": [
    {
     "name": "stdout",
     "output_type": "stream",
     "text": [
      "2014    26483412\n",
      "2013    11186881\n",
      "Name: date_time, dtype: int64\n",
      "7     3893567\n",
      "8     3773730\n",
      "12    3746582\n",
      "10    3705635\n",
      "9     3700667\n",
      "11    3434723\n",
      "6     3190844\n",
      "5     2840308\n",
      "3     2743173\n",
      "4     2712327\n",
      "2     1975372\n",
      "1     1953365\n",
      "Name: date_time, dtype: int64\n"
     ]
    }
   ],
   "source": [
    "years =  train[\"date_time\"].dt.year.value_counts()\n",
    "print years\n",
    "months =  train[\"date_time\"].dt.month.value_counts()\n",
    "print months"
   ]
  },
  {
   "cell_type": "code",
   "execution_count": 41,
   "metadata": {
    "collapsed": false
   },
   "outputs": [
    {
     "data": {
      "image/png": "[encoded data removed]",
      "text/plain": [
       "<matplotlib.figure.Figure at 0x1168c8ad0>"
      ]
     },
     "metadata": {},
     "output_type": "display_data"
    }
   ],
   "source": [
    "fig = plt.figure()\n",
    "ind = np.arange(12)    # the month\n",
    "\n",
    "p = plt.bar(ind, 100*months/float(n_train), 1, color='b',alpha=0.5)\n",
    "plt.ylabel('Occurence dans train.csv (%)')\n",
    "plt.title(u'Saisonalité\\ntrain.csv ')\n",
    "plt.xticks(ind + 1/2.0, months.index, rotation = 90)\n",
    "\n",
    "plt.show()"
   ]
  },
  {
   "cell_type": "code",
   "execution_count": 42,
   "metadata": {
    "collapsed": false
   },
   "outputs": [
    {
     "name": "stdout",
     "output_type": "stream",
     "text": [
      "2014.0    23427909\n",
      "2013.0     9853622\n",
      "2015.0     4338918\n",
      "2016.0        2703\n",
      "2012.0          11\n",
      "2018.0           9\n",
      "2023.0           8\n",
      "2022.0           7\n",
      "2017.0           4\n",
      "2019.0           2\n",
      "2057.0           2\n",
      "2020.0           2\n",
      "2030.0           1\n",
      "2024.0           1\n",
      "2025.0           1\n",
      "2026.0           1\n",
      "2027.0           1\n",
      "2028.0           1\n",
      "2021.0           1\n",
      "Name: srch_ci, dtype: int64\n"
     ]
    }
   ],
   "source": [
    "years =  train[\"srch_ci\"].dt.year.value_counts()\n",
    "print years"
   ]
  },
  {
   "cell_type": "code",
   "execution_count": 43,
   "metadata": {
    "collapsed": false
   },
   "outputs": [
    {
     "name": "stdout",
     "output_type": "stream",
     "text": [
      "2015.0    2344893\n",
      "2016.0     183262\n",
      "2017.0         66\n",
      "Name: srch_ci, dtype: int64\n"
     ]
    }
   ],
   "source": [
    "years =  test[\"srch_ci\"].dt.year.value_counts()\n",
    "print years"
   ]
  },
  {
   "cell_type": "markdown",
   "metadata": {},
   "source": [
    "### posa_continent"
   ]
  },
  {
   "cell_type": "code",
   "execution_count": 44,
   "metadata": {
    "collapsed": false
   },
   "outputs": [
    {
     "name": "stdout",
     "output_type": "stream",
     "text": [
      "3    28240462\n",
      "1     4458076\n",
      "2     3515919\n",
      "4     1190726\n",
      "0      265110\n",
      "Name: posa_continent, dtype: int64\n"
     ]
    }
   ],
   "source": [
    "posas =  train[\"posa_continent\"].value_counts()\n",
    "print posas"
   ]
  },
  {
   "cell_type": "markdown",
   "metadata": {},
   "source": [
    "### user_location_country, user_location_regions, user_location_city"
   ]
  },
  {
   "cell_type": "code",
   "execution_count": 45,
   "metadata": {
    "collapsed": false
   },
   "outputs": [
    {
     "name": "stdout",
     "output_type": "stream",
     "text": [
      "Nombre de user_location_countrys 237\n",
      "Top 5 en %\n",
      "66     54.012970\n",
      "205    11.118265\n",
      "3       5.873519\n",
      "69      5.127292\n",
      "77      2.518489\n",
      "Name: user_location_country, dtype: float64\n"
     ]
    }
   ],
   "source": [
    "user_location_countrys =  train[\"user_location_country\"].value_counts()\n",
    "print(\"Nombre de user_location_countrys %i\"% (len(user_location_countrys)))\n",
    "print(\"Top 5 en %\")\n",
    "print 100*user_location_countrys[0:5]/float(n_train)"
   ]
  },
  {
   "cell_type": "code",
   "execution_count": 46,
   "metadata": {
    "collapsed": false
   },
   "outputs": [
    {
     "name": "stdout",
     "output_type": "stream",
     "text": [
      "Nombre de user_location_region 1008\n",
      "Top 5 en %\n",
      "174    10.970615\n",
      "348     4.973088\n",
      "354     4.534629\n",
      "442     3.803368\n",
      "220     3.623925\n",
      "Name: user_location_region, dtype: float64\n"
     ]
    }
   ],
   "source": [
    "user_location_regions =  train[\"user_location_region\"].value_counts()\n",
    "print(\"Nombre de user_location_region %i\"% (len(user_location_regions)))\n",
    "print(\"Top 5 en %\")\n",
    "print 100*user_location_regions[0:5]/float(n_train)"
   ]
  },
  {
   "cell_type": "code",
   "execution_count": 47,
   "metadata": {
    "collapsed": false
   },
   "outputs": [
    {
     "name": "stdout",
     "output_type": "stream",
     "text": [
      "Nombre de user_location_region 50447\n",
      "Top 5 en %\n",
      "5703     2.023507\n",
      "48862    1.640383\n",
      "25315    1.063042\n",
      "24103    1.047858\n",
      "36086    0.941352\n",
      "Name: user_location_city, dtype: float64\n"
     ]
    }
   ],
   "source": [
    "user_location_citys =  train[\"user_location_city\"].value_counts()\n",
    "print(\"Nombre de user_location_region %i\"% (len(user_location_citys)))\n",
    "print(\"Top 5 en %\")\n",
    "print 100*user_location_citys[0:5]/float(n_train)"
   ]
  },
  {
   "cell_type": "markdown",
   "metadata": {},
   "source": [
    "### orig_destination_distance"
   ]
  },
  {
   "cell_type": "code",
   "execution_count": 48,
   "metadata": {
    "collapsed": false
   },
   "outputs": [
    {
     "data": {
      "image/png": "[encoded data removed]",
      "text/plain": [
       "<matplotlib.figure.Figure at 0x116a294d0>"
      ]
     },
     "metadata": {},
     "output_type": "display_data"
    }
   ],
   "source": [
    "fig= train[\"orig_destination_distance\"].hist(bins = 20,color='b',alpha=0.5)\n",
    "plt.title(u\"Histogramme des distances entre origine et destination\\nRecherche train.csv\")\n",
    "plt.xticks(rotation = 90)\n",
    "#plt.xticks( np.arange(12), calendar.month_name[1:13], rotation=17 )\n",
    "plt.show()"
   ]
  },
  {
   "cell_type": "markdown",
   "metadata": {},
   "source": [
    "### is_mobile"
   ]
  },
  {
   "cell_type": "code",
   "execution_count": 49,
   "metadata": {
    "collapsed": false
   },
   "outputs": [
    {
     "name": "stdout",
     "output_type": "stream",
     "text": [
      "Nombre de is_mobile 2\n",
      "0    86.507349\n",
      "1    13.492651\n",
      "Name: is_mobile, dtype: float64\n"
     ]
    }
   ],
   "source": [
    "is_mobiles =  train[\"is_mobile\"].value_counts()\n",
    "print(\"Nombre de is_mobile %i\"% (len(is_mobiles)))\n",
    "print 100*is_mobiles[0:5]/float(n_train)"
   ]
  },
  {
   "cell_type": "markdown",
   "metadata": {},
   "source": [
    "### is_package"
   ]
  },
  {
   "cell_type": "code",
   "execution_count": 50,
   "metadata": {
    "collapsed": false
   },
   "outputs": [
    {
     "name": "stdout",
     "output_type": "stream",
     "text": [
      "Nombre de is_package 2\n",
      "0    75.109578\n",
      "1    24.890422\n",
      "Name: is_package, dtype: float64\n"
     ]
    }
   ],
   "source": [
    "is_packages =  train[\"is_package\"].value_counts()\n",
    "print(\"Nombre de is_package %i\"% (len(is_packages)))\n",
    "print 100*is_packages[0:5]/float(n_train)"
   ]
  },
  {
   "cell_type": "markdown",
   "metadata": {},
   "source": [
    "### channel"
   ]
  },
  {
   "cell_type": "code",
   "execution_count": 51,
   "metadata": {
    "collapsed": false
   },
   "outputs": [
    {
     "name": "stdout",
     "output_type": "stream",
     "text": [
      "Nombre de channel 11\n",
      "9     55.431740\n",
      "0     12.437389\n",
      "1     10.138782\n",
      "2      7.874513\n",
      "5      6.174831\n",
      "3      4.450552\n",
      "4      2.184806\n",
      "7      0.831411\n",
      "8      0.298020\n",
      "6      0.161488\n",
      "10     0.016467\n",
      "Name: channel, dtype: float64\n"
     ]
    }
   ],
   "source": [
    "channels =  train[\"channel\"].value_counts()\n",
    "print(\"Nombre de channel %i\"% (len(channels)))\n",
    "print 100*channels/float(n_train)"
   ]
  },
  {
   "cell_type": "markdown",
   "metadata": {},
   "source": [
    "### srch_adults_cnt, srch_children_cnt, srch_rm_cnt"
   ]
  },
  {
   "cell_type": "code",
   "execution_count": 52,
   "metadata": {
    "collapsed": false
   },
   "outputs": [
    {
     "name": "stdout",
     "output_type": "stream",
     "text": [
      "Nombre de srch_adults_cnt 10\n",
      "2    65.596899\n",
      "1    21.382948\n",
      "3     5.497101\n",
      "4     5.297604\n",
      "6     0.893349\n",
      "5     0.753841\n",
      "8     0.230911\n",
      "0     0.188422\n",
      "7     0.117902\n",
      "9     0.041024\n",
      "Name: srch_adults_cnt, dtype: float64\n"
     ]
    }
   ],
   "source": [
    "srch_adults_cnts =  train[\"srch_adults_cnt\"].value_counts()\n",
    "print(\"Nombre de srch_adults_cnt %i\"% (len(srch_adults_cnts)))\n",
    "print 100*srch_adults_cnts/float(n_train)"
   ]
  },
  {
   "cell_type": "code",
   "execution_count": 53,
   "metadata": {
    "collapsed": false
   },
   "outputs": [
    {
     "data": {
      "image/png": "[encoded data removed]",
      "text/plain": [
       "<matplotlib.figure.Figure at 0x12594a410>"
      ]
     },
     "metadata": {},
     "output_type": "display_data"
    }
   ],
   "source": [
    "fig= train[\"srch_adults_cnt\"].hist(bins = 20,color='b',alpha=0.5)\n",
    "plt.title(u\"Distribution du nombre d'adultes\\nRecherche train.csv\")\n",
    "plt.xticks(rotation = 90)\n",
    "#plt.xticks( np.arange(12), calendar.month_name[1:13], rotation=17 )\n",
    "plt.show()"
   ]
  },
  {
   "cell_type": "code",
   "execution_count": 54,
   "metadata": {
    "collapsed": false
   },
   "outputs": [
    {
     "name": "stdout",
     "output_type": "stream",
     "text": [
      "Nombre de srch_children_cnt 10\n",
      "0    79.017551\n",
      "1    11.200906\n",
      "2     8.001945\n",
      "3     1.303643\n",
      "4     0.367154\n",
      "5     0.051959\n",
      "6     0.040921\n",
      "7     0.007165\n",
      "8     0.006414\n",
      "9     0.002344\n",
      "Name: srch_children_cnt, dtype: float64\n"
     ]
    }
   ],
   "source": [
    "srch_children_cnts =  train[\"srch_children_cnt\"].value_counts()\n",
    "print(\"Nombre de srch_children_cnt %i\"% (len(srch_children_cnts)))\n",
    "print 100*srch_children_cnts/float(n_train)"
   ]
  },
  {
   "cell_type": "code",
   "execution_count": 55,
   "metadata": {
    "collapsed": false
   },
   "outputs": [
    {
     "data": {
      "image/png": "[encoded data removed]",
      "text/plain": [
       "<matplotlib.figure.Figure at 0x32929b910>"
      ]
     },
     "metadata": {},
     "output_type": "display_data"
    }
   ],
   "source": [
    "fig= train[\"srch_children_cnt\"].hist(bins = 20,color='b',alpha=0.5)\n",
    "plt.title(u\"Distribution du nombre d'enfants\\nRecherche train.csv\")\n",
    "plt.xticks(rotation = 90)\n",
    "#plt.xticks( np.arange(12), calendar.month_name[1:13], rotation=17 )\n",
    "plt.show()"
   ]
  },
  {
   "cell_type": "code",
   "execution_count": 56,
   "metadata": {
    "collapsed": false
   },
   "outputs": [
    {
     "name": "stdout",
     "output_type": "stream",
     "text": [
      "Nombre de srch_rm_cnt 9\n",
      "1    91.684742\n",
      "2     6.615749\n",
      "3     1.112704\n",
      "4     0.283820\n",
      "5     0.123859\n",
      "8     0.081398\n",
      "6     0.061961\n",
      "7     0.033485\n",
      "0     0.002280\n",
      "Name: srch_rm_cnt, dtype: float64\n"
     ]
    }
   ],
   "source": [
    "srch_rm_cnts =  train[\"srch_rm_cnt\"].value_counts()\n",
    "print(\"Nombre de srch_rm_cnt %i\"% (len(srch_rm_cnts)))\n",
    "print 100*srch_rm_cnts/float(n_train)"
   ]
  },
  {
   "cell_type": "code",
   "execution_count": 57,
   "metadata": {
    "collapsed": false
   },
   "outputs": [
    {
     "data": {
      "image/png": "[encoded data removed]",
      "text/plain": [
       "<matplotlib.figure.Figure at 0x1280d0310>"
      ]
     },
     "metadata": {},
     "output_type": "display_data"
    }
   ],
   "source": [
    "fig= train[\"srch_rm_cnt\"].hist(bins = 20,color='b',alpha=0.5)\n",
    "plt.title(u\"Distribution du nombre de chambre\\nRecherche train.csv\")\n",
    "plt.xticks(rotation = 90)\n",
    "#plt.xticks( np.arange(12), calendar.month_name[1:13], rotation=17 )\n",
    "plt.show()"
   ]
  },
  {
   "cell_type": "markdown",
   "metadata": {},
   "source": [
    "### srch_destination_id, srch_destination_type_id"
   ]
  },
  {
   "cell_type": "code",
   "execution_count": 58,
   "metadata": {
    "collapsed": false
   },
   "outputs": [
    {
     "name": "stdout",
     "output_type": "stream",
     "text": [
      "Nombre de srch_destination_id 59455\n",
      "Top 5\n",
      "8250    3.540341\n",
      "8267    2.669993\n",
      "8791    1.644585\n",
      "8268    1.404308\n",
      "8253    1.322514\n",
      "Name: srch_destination_id, dtype: float64\n"
     ]
    }
   ],
   "source": [
    "srch_destination_ids =  train[\"srch_destination_id\"].value_counts()\n",
    "print(\"Nombre de srch_destination_id %i\"% (len(srch_destination_ids)))\n",
    "print(\"Top 5\")\n",
    "print 100*srch_destination_ids[0:5]/float(n_train)"
   ]
  },
  {
   "cell_type": "code",
   "execution_count": 59,
   "metadata": {
    "collapsed": false
   },
   "outputs": [
    {
     "name": "stdout",
     "output_type": "stream",
     "text": [
      "Nombre de srch_destination_type_id 10\n",
      "1    61.865598\n",
      "6    22.432953\n",
      "3     7.294753\n",
      "5     4.762007\n",
      "4     3.270630\n",
      "8     0.361107\n",
      "7     0.008627\n",
      "9     0.004290\n",
      "0     0.000032\n",
      "2     0.000003\n",
      "Name: srch_destination_type_id, dtype: float64\n"
     ]
    }
   ],
   "source": [
    "srch_destination_type_ids =  train[\"srch_destination_type_id\"].value_counts()\n",
    "print(\"Nombre de srch_destination_type_id %i\"% (len(srch_destination_type_ids)))\n",
    "print 100*srch_destination_type_ids/float(n_train)"
   ]
  },
  {
   "cell_type": "markdown",
   "metadata": {},
   "source": [
    "### hotel_continent, hotel_country, hotel_market inclusion et lien avec les clusters"
   ]
  },
  {
   "cell_type": "code",
   "execution_count": 60,
   "metadata": {
    "collapsed": false
   },
   "outputs": [
    {
     "name": "stdout",
     "output_type": "stream",
     "text": [
      "Nombre de hotel_continent 7\n",
      "2    52.501973\n",
      "6    20.100836\n",
      "3    12.994746\n",
      "4    11.518673\n",
      "0     1.890800\n",
      "5     0.992403\n",
      "1     0.000568\n",
      "Name: hotel_continent, dtype: float64\n"
     ]
    }
   ],
   "source": [
    "hotel_continents =  train[\"hotel_continent\"].value_counts()\n",
    "print(\"Nombre de hotel_continent %i\"% (len(hotel_continents)))\n",
    "print 100*hotel_continents/float(n_train)"
   ]
  },
  {
   "cell_type": "code",
   "execution_count": 61,
   "metadata": {
    "collapsed": false
   },
   "outputs": [
    {
     "name": "stdout",
     "output_type": "stream",
     "text": [
      "Nombre de hotel_country 213\n",
      "Top 5\n",
      "50     47.822845\n",
      "8       5.080953\n",
      "198     4.679127\n",
      "105     3.584796\n",
      "70      3.183787\n",
      "Name: hotel_country, dtype: float64\n"
     ]
    }
   ],
   "source": [
    "hotel_countrys =  train[\"hotel_country\"].value_counts()\n",
    "print(\"Nombre de hotel_country %i\"% (len(hotel_countrys)))\n",
    "print(\"Top 5\")\n",
    "print 100*hotel_countrys[0:5]/float(n_train)"
   ]
  },
  {
   "cell_type": "code",
   "execution_count": 62,
   "metadata": {
    "collapsed": false
   },
   "outputs": [
    {
     "name": "stdout",
     "output_type": "stream",
     "text": [
      "Nombre de hotel_market 2118\n",
      "Top 5\n",
      "628    4.701596\n",
      "675    4.211406\n",
      "682    2.266502\n",
      "19     2.146240\n",
      "701    2.030542\n",
      "Name: hotel_market, dtype: float64\n"
     ]
    }
   ],
   "source": [
    "hotel_markets =  train[\"hotel_market\"].value_counts()\n",
    "print(\"Nombre de hotel_market %i\"% (len(hotel_markets)))\n",
    "print(\"Top 5\")\n",
    "print 100*hotel_markets[0:5]/float(n_train)\n"
   ]
  },
  {
   "cell_type": "markdown",
   "metadata": {},
   "source": [
    "Verification inclusion des pays dans le continents, ... market et clusters"
   ]
  },
  {
   "cell_type": "code",
   "execution_count": 63,
   "metadata": {
    "collapsed": false
   },
   "outputs": [
    {
     "name": "stdout",
     "output_type": "stream",
     "text": [
      "Continent 0\n",
      "Nombre de pays : 16 \n",
      "Top 3 countries\n",
      "63    1.172927\n",
      "34    0.368338\n",
      "87    0.159107\n",
      "Name: hotel_country, dtype: float64\n",
      "Continent 1\n",
      "Nombre de pays : 2 \n",
      "Top 3 countries\n",
      "16    0.000547\n",
      "62    0.000021\n",
      "Name: hotel_country, dtype: float64\n",
      "Continent 2\n",
      "Nombre de pays : 2 \n",
      "Top 3 countries\n",
      "50     47.822845\n",
      "198     4.679127\n",
      "Name: hotel_country, dtype: float64\n",
      "Continent 3\n",
      "Nombre de pays : 37 \n",
      "Top 3 countries\n",
      "182    2.365737\n",
      "106    1.707372\n",
      "48     0.993757\n",
      "Name: hotel_country, dtype: float64\n",
      "Continent 4\n",
      "Nombre de pays : 47 \n",
      "Top 3 countries\n",
      "8      5.080953\n",
      "163    1.272098\n",
      "51     0.652034\n",
      "Name: hotel_country, dtype: float64\n",
      "Continent 5\n",
      "Nombre de pays : 56 \n",
      "Top 3 countries\n",
      "203    0.206983\n",
      "194    0.206898\n",
      "100    0.156099\n",
      "Name: hotel_country, dtype: float64\n",
      "Continent 6\n",
      "Nombre de pays : 53 \n",
      "Top 3 countries\n",
      "105    3.584796\n",
      "70     3.183787\n",
      "204    2.855598\n",
      "Name: hotel_country, dtype: float64\n",
      "Un seul continent par pays :\n",
      "True\n"
     ]
    }
   ],
   "source": [
    "ctrl = 0\n",
    "for continent in range(7):\n",
    "    pays = train.loc[train.loc[:,\"hotel_continent\"]==continent,\"hotel_country\"].value_counts()\n",
    "    print(\"Continent %i\" % continent)\n",
    "    print(\"Nombre de pays : %i \"% len(pays))\n",
    "    print(\"Top 3 countries\")\n",
    "    print 100*pays[0:3]/float(n_train)\n",
    "    ctrl += len(pays)\n",
    "print (\"Un seul continent par pays :\")\n",
    "print ctrl == len(hotel_countrys)"
   ]
  },
  {
   "cell_type": "markdown",
   "metadata": {},
   "source": [
    "**Continent 2** : avec deux pays dont l'un représente 48% des click **Amérique du Nord**  \n",
    "- **Pays 50**: **United States**  \n",
    "- **Pays 198** **Canada ?**  \n",
    "\n",
    "**Continent 6** : avec 53 pays et 20% des click **Europe ?**  \n",
    "- **Pays 105**: **France**  \n",
    "- **Pays 70** **Italie ?** \n",
    "- **Pays 204** **RU ?** \n",
    "\n",
    "\n"
   ]
  },
  {
   "cell_type": "markdown",
   "metadata": {},
   "source": [
    "## destinations.csv"
   ]
  },
  {
   "cell_type": "code",
   "execution_count": 64,
   "metadata": {
    "collapsed": false
   },
   "outputs": [
    {
     "name": "stdout",
     "output_type": "stream",
     "text": [
      "(62106, 150)\n"
     ]
    },
    {
     "data": {
      "text/html": [
       "<div>\n",
       "<table border=\"1\" class=\"dataframe\">\n",
       "  <thead>\n",
       "    <tr style=\"text-align: right;\">\n",
       "      <th></th>\n",
       "      <th>srch_destination_id</th>\n",
       "      <th>d1</th>\n",
       "      <th>d2</th>\n",
       "      <th>d3</th>\n",
       "      <th>d4</th>\n",
       "      <th>d5</th>\n",
       "      <th>d6</th>\n",
       "      <th>d7</th>\n",
       "      <th>d8</th>\n",
       "      <th>d9</th>\n",
       "      <th>...</th>\n",
       "      <th>d140</th>\n",
       "      <th>d141</th>\n",
       "      <th>d142</th>\n",
       "      <th>d143</th>\n",
       "      <th>d144</th>\n",
       "      <th>d145</th>\n",
       "      <th>d146</th>\n",
       "      <th>d147</th>\n",
       "      <th>d148</th>\n",
       "      <th>d149</th>\n",
       "    </tr>\n",
       "  </thead>\n",
       "  <tbody>\n",
       "    <tr>\n",
       "      <th>0</th>\n",
       "      <td>0</td>\n",
       "      <td>-2.198657</td>\n",
       "      <td>-2.198657</td>\n",
       "      <td>-2.198657</td>\n",
       "      <td>-2.198657</td>\n",
       "      <td>-2.198657</td>\n",
       "      <td>-1.897627</td>\n",
       "      <td>-2.198657</td>\n",
       "      <td>-2.198657</td>\n",
       "      <td>-1.897627</td>\n",
       "      <td>...</td>\n",
       "      <td>-2.198657</td>\n",
       "      <td>-2.198657</td>\n",
       "      <td>-2.198657</td>\n",
       "      <td>-2.198657</td>\n",
       "      <td>-2.198657</td>\n",
       "      <td>-2.198657</td>\n",
       "      <td>-2.198657</td>\n",
       "      <td>-2.198657</td>\n",
       "      <td>-2.198657</td>\n",
       "      <td>-2.198657</td>\n",
       "    </tr>\n",
       "    <tr>\n",
       "      <th>1</th>\n",
       "      <td>1</td>\n",
       "      <td>-2.181690</td>\n",
       "      <td>-2.181690</td>\n",
       "      <td>-2.181690</td>\n",
       "      <td>-2.082564</td>\n",
       "      <td>-2.181690</td>\n",
       "      <td>-2.165028</td>\n",
       "      <td>-2.181690</td>\n",
       "      <td>-2.181690</td>\n",
       "      <td>-2.031597</td>\n",
       "      <td>...</td>\n",
       "      <td>-2.165028</td>\n",
       "      <td>-2.181690</td>\n",
       "      <td>-2.165028</td>\n",
       "      <td>-2.181690</td>\n",
       "      <td>-2.181690</td>\n",
       "      <td>-2.165028</td>\n",
       "      <td>-2.181690</td>\n",
       "      <td>-2.181690</td>\n",
       "      <td>-2.181690</td>\n",
       "      <td>-2.181690</td>\n",
       "    </tr>\n",
       "    <tr>\n",
       "      <th>2</th>\n",
       "      <td>2</td>\n",
       "      <td>-2.183490</td>\n",
       "      <td>-2.224164</td>\n",
       "      <td>-2.224164</td>\n",
       "      <td>-2.189562</td>\n",
       "      <td>-2.105819</td>\n",
       "      <td>-2.075407</td>\n",
       "      <td>-2.224164</td>\n",
       "      <td>-2.118483</td>\n",
       "      <td>-2.140393</td>\n",
       "      <td>...</td>\n",
       "      <td>-2.224164</td>\n",
       "      <td>-2.224164</td>\n",
       "      <td>-2.196379</td>\n",
       "      <td>-2.224164</td>\n",
       "      <td>-2.192009</td>\n",
       "      <td>-2.224164</td>\n",
       "      <td>-2.224164</td>\n",
       "      <td>-2.224164</td>\n",
       "      <td>-2.224164</td>\n",
       "      <td>-2.057548</td>\n",
       "    </tr>\n",
       "    <tr>\n",
       "      <th>3</th>\n",
       "      <td>3</td>\n",
       "      <td>-2.177409</td>\n",
       "      <td>-2.177409</td>\n",
       "      <td>-2.177409</td>\n",
       "      <td>-2.177409</td>\n",
       "      <td>-2.177409</td>\n",
       "      <td>-2.115485</td>\n",
       "      <td>-2.177409</td>\n",
       "      <td>-2.177409</td>\n",
       "      <td>-2.177409</td>\n",
       "      <td>...</td>\n",
       "      <td>-2.161081</td>\n",
       "      <td>-2.177409</td>\n",
       "      <td>-2.177409</td>\n",
       "      <td>-2.177409</td>\n",
       "      <td>-2.177409</td>\n",
       "      <td>-2.177409</td>\n",
       "      <td>-2.177409</td>\n",
       "      <td>-2.177409</td>\n",
       "      <td>-2.177409</td>\n",
       "      <td>-2.177409</td>\n",
       "    </tr>\n",
       "  </tbody>\n",
       "</table>\n",
       "<p>4 rows × 150 columns</p>\n",
       "</div>"
      ],
      "text/plain": [
       "   srch_destination_id        d1        d2        d3        d4        d5  \\\n",
       "0                    0 -2.198657 -2.198657 -2.198657 -2.198657 -2.198657   \n",
       "1                    1 -2.181690 -2.181690 -2.181690 -2.082564 -2.181690   \n",
       "2                    2 -2.183490 -2.224164 -2.224164 -2.189562 -2.105819   \n",
       "3                    3 -2.177409 -2.177409 -2.177409 -2.177409 -2.177409   \n",
       "\n",
       "         d6        d7        d8        d9    ...         d140      d141  \\\n",
       "0 -1.897627 -2.198657 -2.198657 -1.897627    ...    -2.198657 -2.198657   \n",
       "1 -2.165028 -2.181690 -2.181690 -2.031597    ...    -2.165028 -2.181690   \n",
       "2 -2.075407 -2.224164 -2.118483 -2.140393    ...    -2.224164 -2.224164   \n",
       "3 -2.115485 -2.177409 -2.177409 -2.177409    ...    -2.161081 -2.177409   \n",
       "\n",
       "       d142      d143      d144      d145      d146      d147      d148  \\\n",
       "0 -2.198657 -2.198657 -2.198657 -2.198657 -2.198657 -2.198657 -2.198657   \n",
       "1 -2.165028 -2.181690 -2.181690 -2.165028 -2.181690 -2.181690 -2.181690   \n",
       "2 -2.196379 -2.224164 -2.192009 -2.224164 -2.224164 -2.224164 -2.224164   \n",
       "3 -2.177409 -2.177409 -2.177409 -2.177409 -2.177409 -2.177409 -2.177409   \n",
       "\n",
       "       d149  \n",
       "0 -2.198657  \n",
       "1 -2.181690  \n",
       "2 -2.057548  \n",
       "3 -2.177409  \n",
       "\n",
       "[4 rows x 150 columns]"
      ]
     },
     "execution_count": 64,
     "metadata": {},
     "output_type": "execute_result"
    }
   ],
   "source": [
    "print destinations.shape\n",
    "destinations.head(4)"
   ]
  },
  {
   "cell_type": "code",
   "execution_count": null,
   "metadata": {
    "collapsed": true
   },
   "outputs": [],
   "source": []
  },
  {
   "cell_type": "code",
   "execution_count": 65,
   "metadata": {
    "collapsed": true
   },
   "outputs": [],
   "source": [
    "from sklearn.decomposition import PCA\n",
    "\n",
    "pca = PCA(n_components=3)\n",
    "dest_small = pca.fit_transform(destinations[[\"d{0}\".format(i + 1) for i in range(149)]])\n",
    "dest_small = pd.DataFrame(dest_small)\n",
    "dest_small[\"srch_destination_id\"] = destinations[\"srch_destination_id\"]"
   ]
  },
  {
   "cell_type": "code",
   "execution_count": 66,
   "metadata": {
    "collapsed": false
   },
   "outputs": [
    {
     "data": {
      "text/plain": [
       "array([ 0.46106252,  0.10834396,  0.04631931])"
      ]
     },
     "execution_count": 66,
     "metadata": {},
     "output_type": "execute_result"
    }
   ],
   "source": [
    "# Variance \n",
    "pca.explained_variance_ratio_"
   ]
  },
  {
   "cell_type": "code",
   "execution_count": 67,
   "metadata": {
    "collapsed": false
   },
   "outputs": [
    {
     "name": "stdout",
     "output_type": "stream",
     "text": [
      "Variance expliqué par les trois premières composantes 61.6 %\n"
     ]
    }
   ],
   "source": [
    "print(\"Variance expliqué par les trois premières composantes %0.1f %%\" % (100*np.sum(pca.explained_variance_ratio_)))"
   ]
  },
  {
   "cell_type": "code",
   "execution_count": 68,
   "metadata": {
    "collapsed": false
   },
   "outputs": [
    {
     "data": {
      "text/plain": [
       "(62106, 4)"
      ]
     },
     "execution_count": 68,
     "metadata": {},
     "output_type": "execute_result"
    }
   ],
   "source": [
    "dest_small.shape"
   ]
  },
  {
   "cell_type": "code",
   "execution_count": 69,
   "metadata": {
    "collapsed": false
   },
   "outputs": [
    {
     "data": {
      "image/png": "[encoded data removed]",
      "text/plain": [
       "<matplotlib.figure.Figure at 0x1168a7750>"
      ]
     },
     "metadata": {},
     "output_type": "display_data"
    }
   ],
   "source": [
    "fig = plt.figure()\n",
    "plt.title(u\"Projection de destination.csv\\n sur les 2 premiers vecteurs propres\")\n",
    "plt.xlabel(u\"Pemiers vecteurs propres : %0.1f %% de variance\" % (100*pca.explained_variance_ratio_[0]))\n",
    "plt.ylabel(u\"Deuxième vecteurs propres :\\n %0.1f %% de variance\" % (100*pca.explained_variance_ratio_[1]))\n",
    "\n",
    "plt.scatter(dest_small.loc[:,[0]],dest_small.loc[:,[1]])\n",
    "plt.show()"
   ]
  },
  {
   "cell_type": "markdown",
   "metadata": {},
   "source": [
    "# Sub sampling - apprentissage test et evalusation"
   ]
  },
  {
   "cell_type": "code",
   "execution_count": 70,
   "metadata": {
    "collapsed": true
   },
   "outputs": [],
   "source": [
    "import random\n",
    "random.seed(10)\n",
    "unique_users = train.user_id.unique()\n",
    "sel_user_ids = random.sample(unique_users, 10000)\n",
    "sub_train = train[train.user_id.isin(sel_user_ids)]"
   ]
  },
  {
   "cell_type": "code",
   "execution_count": 71,
   "metadata": {
    "collapsed": false
   },
   "outputs": [
    {
     "name": "stdout",
     "output_type": "stream",
     "text": [
      "Taille du sous echantillon 318719 soit 0.85 %\n"
     ]
    }
   ],
   "source": [
    "print(\"Taille du sous echantillon %i soit %0.2f %%\"%(sub_train.shape[0],100*sub_train.shape[0]/float(n_train)))"
   ]
  },
  {
   "cell_type": "markdown",
   "metadata": {},
   "source": [
    "## Extraction de features et construction d'un ensemble d'apprentissage et de test  \n",
    "### Features extraction"
   ]
  },
  {
   "cell_type": "code",
   "execution_count": 74,
   "metadata": {
    "collapsed": false
   },
   "outputs": [],
   "source": [
    "from sklearn.preprocessing import OneHotEncoder\n",
    "\n",
    "def extract_features(df):\n",
    "    df.loc[:,\"date_time\"] = pd.to_datetime(df.loc[:,\"date_time\"])\n",
    "    df.loc[:,\"srch_ci\"] = pd.to_datetime(df.loc[:,\"srch_ci\"], format='%Y-%m-%d', errors=\"coerce\")\n",
    "    df.loc[:,\"srch_co\"] = pd.to_datetime(df.loc[:,\"srch_co\"], format='%Y-%m-%d', errors=\"coerce\")\n",
    "    \n",
    "    data_dict = {}\n",
    "    for feature in [\"month\", \"day\", \"hour\", \"minute\", \"dayofweek\", \"quarter\", \"year\"]:\n",
    "        data_dict[feature] = getattr(df.loc[:,\"date_time\"].dt, feature)\n",
    "        # getattr(x, 'y') est equivalent à x.y\n",
    "        # permet une écriture dynamique...\n",
    "    \n",
    "    # features gradées à l'identique\n",
    "    carryover = [p for p in df.columns if p not in [\"date_time\", \"srch_ci\", \"srch_co\"]]\n",
    "    for feature in carryover:\n",
    "        data_dict[feature] = df[feature]\n",
    "        \n",
    "#    enc = OneHotEncoder()\n",
    "#    categorial_features = [\"hotel_continent\",\"srch_destination_type_id\"]\n",
    "#    enc.fit(df.loc[:,categorial_features])\n",
    "#    data_cat_df = pd.DataFrame(enc.transform(df.loc[:,categorial_features]))\n",
    "#    for feature in categorial_features:\n",
    "#        data_array = \n",
    "    \n",
    "    date_features = [\"month\", \"day\", \"dayofweek\", \"quarter\",\"year\"]\n",
    "    for feature in date_features:\n",
    "        data_dict[\"ci_{0}\".format(feature)] = getattr(df[\"srch_ci\"].dt, feature)\n",
    "        data_dict[\"co_{0}\".format(feature)] = getattr(df[\"srch_co\"].dt, feature)\n",
    "    data_dict[\"stay_span\"] = (df[\"srch_co\"] - df[\"srch_ci\"]).astype('timedelta64[h]')\n",
    "        \n",
    "    data_df = pd.DataFrame(data_dict)\n",
    "    \n",
    "    data_df = data_df.join(dest_small, on=\"srch_destination_id\", how='left', rsuffix=\"dest\")\n",
    "    data_df = data_df.drop(\"srch_destination_iddest\", axis=1)\n",
    "    return data_df"
   ]
  },
  {
   "cell_type": "code",
   "execution_count": 75,
   "metadata": {
    "collapsed": false
   },
   "outputs": [
    {
     "name": "stdout",
     "output_type": "stream",
     "text": [
      "(318719, 42)\n"
     ]
    },
    {
     "data": {
      "text/html": [
       "<div>\n",
       "<table border=\"1\" class=\"dataframe\">\n",
       "  <thead>\n",
       "    <tr style=\"text-align: right;\">\n",
       "      <th></th>\n",
       "      <th>channel</th>\n",
       "      <th>ci_day</th>\n",
       "      <th>ci_dayofweek</th>\n",
       "      <th>ci_month</th>\n",
       "      <th>ci_quarter</th>\n",
       "      <th>ci_year</th>\n",
       "      <th>cnt</th>\n",
       "      <th>co_day</th>\n",
       "      <th>co_dayofweek</th>\n",
       "      <th>co_month</th>\n",
       "      <th>...</th>\n",
       "      <th>srch_rm_cnt</th>\n",
       "      <th>stay_span</th>\n",
       "      <th>user_id</th>\n",
       "      <th>user_location_city</th>\n",
       "      <th>user_location_country</th>\n",
       "      <th>user_location_region</th>\n",
       "      <th>year</th>\n",
       "      <th>0</th>\n",
       "      <th>1</th>\n",
       "      <th>2</th>\n",
       "    </tr>\n",
       "  </thead>\n",
       "  <tbody>\n",
       "    <tr>\n",
       "      <th>1927</th>\n",
       "      <td>2</td>\n",
       "      <td>28.0</td>\n",
       "      <td>4.0</td>\n",
       "      <td>2.0</td>\n",
       "      <td>1.0</td>\n",
       "      <td>2014.0</td>\n",
       "      <td>2</td>\n",
       "      <td>2.0</td>\n",
       "      <td>6.0</td>\n",
       "      <td>3.0</td>\n",
       "      <td>...</td>\n",
       "      <td>1</td>\n",
       "      <td>48.0</td>\n",
       "      <td>8654</td>\n",
       "      <td>23793</td>\n",
       "      <td>66</td>\n",
       "      <td>174</td>\n",
       "      <td>2014</td>\n",
       "      <td>0.021512</td>\n",
       "      <td>-0.042983</td>\n",
       "      <td>-0.273931</td>\n",
       "    </tr>\n",
       "    <tr>\n",
       "      <th>1928</th>\n",
       "      <td>0</td>\n",
       "      <td>30.0</td>\n",
       "      <td>5.0</td>\n",
       "      <td>8.0</td>\n",
       "      <td>3.0</td>\n",
       "      <td>2014.0</td>\n",
       "      <td>1</td>\n",
       "      <td>1.0</td>\n",
       "      <td>0.0</td>\n",
       "      <td>9.0</td>\n",
       "      <td>...</td>\n",
       "      <td>1</td>\n",
       "      <td>48.0</td>\n",
       "      <td>8654</td>\n",
       "      <td>13277</td>\n",
       "      <td>66</td>\n",
       "      <td>174</td>\n",
       "      <td>2014</td>\n",
       "      <td>0.306602</td>\n",
       "      <td>-0.002512</td>\n",
       "      <td>-0.101757</td>\n",
       "    </tr>\n",
       "  </tbody>\n",
       "</table>\n",
       "<p>2 rows × 42 columns</p>\n",
       "</div>"
      ],
      "text/plain": [
       "      channel  ci_day  ci_dayofweek  ci_month  ci_quarter  ci_year  cnt  \\\n",
       "1927        2    28.0           4.0       2.0         1.0   2014.0    2   \n",
       "1928        0    30.0           5.0       8.0         3.0   2014.0    1   \n",
       "\n",
       "      co_day  co_dayofweek  co_month    ...     srch_rm_cnt  stay_span  \\\n",
       "1927     2.0           6.0       3.0    ...               1       48.0   \n",
       "1928     1.0           0.0       9.0    ...               1       48.0   \n",
       "\n",
       "      user_id  user_location_city  user_location_country  \\\n",
       "1927     8654               23793                     66   \n",
       "1928     8654               13277                     66   \n",
       "\n",
       "      user_location_region  year         0         1         2  \n",
       "1927                   174  2014  0.021512 -0.042983 -0.273931  \n",
       "1928                   174  2014  0.306602 -0.002512 -0.101757  \n",
       "\n",
       "[2 rows x 42 columns]"
      ]
     },
     "execution_count": 75,
     "metadata": {},
     "output_type": "execute_result"
    }
   ],
   "source": [
    "df = extract_features(sub_train)\n",
    "print df.shape\n",
    "df.head(2)"
   ]
  },
  {
   "cell_type": "markdown",
   "metadata": {},
   "source": [
    "## Traitement des valeurs manquantes"
   ]
  },
  {
   "cell_type": "code",
   "execution_count": 76,
   "metadata": {
    "collapsed": false
   },
   "outputs": [
    {
     "data": {
      "text/plain": [
       "channel                           0\n",
       "ci_day                          444\n",
       "ci_dayofweek                    444\n",
       "ci_month                        444\n",
       "ci_quarter                      444\n",
       "ci_year                         444\n",
       "cnt                               0\n",
       "co_day                          444\n",
       "co_dayofweek                    444\n",
       "co_month                        444\n",
       "co_quarter                      444\n",
       "co_year                         444\n",
       "day                               0\n",
       "dayofweek                         0\n",
       "hotel_cluster                     0\n",
       "hotel_continent                   0\n",
       "hotel_country                     0\n",
       "hotel_market                      0\n",
       "hour                              0\n",
       "is_booking                        0\n",
       "is_mobile                         0\n",
       "is_package                        0\n",
       "minute                            0\n",
       "month                             0\n",
       "orig_destination_distance    116111\n",
       "posa_continent                    0\n",
       "quarter                           0\n",
       "site_name                         0\n",
       "srch_adults_cnt                   0\n",
       "srch_children_cnt                 0\n",
       "srch_destination_id               0\n",
       "srch_destination_type_id          0\n",
       "srch_rm_cnt                       0\n",
       "stay_span                       444\n",
       "user_id                           0\n",
       "user_location_city                0\n",
       "user_location_country             0\n",
       "user_location_region              0\n",
       "year                              0\n",
       "0                               594\n",
       "1                               594\n",
       "2                               594\n",
       "dtype: int64"
      ]
     },
     "execution_count": 76,
     "metadata": {},
     "output_type": "execute_result"
    }
   ],
   "source": [
    "np.sum(df.isnull())"
   ]
  },
  {
   "cell_type": "code",
   "execution_count": 77,
   "metadata": {
    "collapsed": true
   },
   "outputs": [],
   "source": [
    "df.fillna(-1, inplace=True)"
   ]
  },
  {
   "cell_type": "code",
   "execution_count": 78,
   "metadata": {
    "collapsed": false
   },
   "outputs": [
    {
     "data": {
      "text/plain": [
       "['channel',\n",
       " 'ci_day',\n",
       " 'ci_dayofweek',\n",
       " 'ci_month',\n",
       " 'ci_quarter',\n",
       " 'ci_year',\n",
       " 'cnt',\n",
       " 'co_day',\n",
       " 'co_dayofweek',\n",
       " 'co_month',\n",
       " 'co_quarter',\n",
       " 'co_year',\n",
       " 'day',\n",
       " 'dayofweek',\n",
       " 'hotel_cluster',\n",
       " 'hotel_continent',\n",
       " 'hotel_country',\n",
       " 'hotel_market',\n",
       " 'hour',\n",
       " 'is_booking',\n",
       " 'is_mobile',\n",
       " 'is_package',\n",
       " 'minute',\n",
       " 'month',\n",
       " 'orig_destination_distance',\n",
       " 'posa_continent',\n",
       " 'quarter',\n",
       " 'site_name',\n",
       " 'srch_adults_cnt',\n",
       " 'srch_children_cnt',\n",
       " 'srch_destination_id',\n",
       " 'srch_destination_type_id',\n",
       " 'srch_rm_cnt',\n",
       " 'stay_span',\n",
       " 'user_id',\n",
       " 'user_location_city',\n",
       " 'user_location_country',\n",
       " 'user_location_region',\n",
       " 'year',\n",
       " 0,\n",
       " 1,\n",
       " 2]"
      ]
     },
     "execution_count": 78,
     "metadata": {},
     "output_type": "execute_result"
    }
   ],
   "source": [
    "list(df)"
   ]
  },
  {
   "cell_type": "markdown",
   "metadata": {},
   "source": [
    "### Séparation entre jeux de test et d'apprentissage"
   ]
  },
  {
   "cell_type": "code",
   "execution_count": 79,
   "metadata": {
    "collapsed": false
   },
   "outputs": [],
   "source": [
    "S_train = df[((df.year == 2013) | ((df.year == 2014) & (df.month < 8)))]\n",
    "S_test = df[((df.year == 2014) & (df.month >= 8))]\n",
    "S_test = S_test.loc[S_test.is_booking == True,:]"
   ]
  },
  {
   "cell_type": "code",
   "execution_count": 80,
   "metadata": {
    "collapsed": false
   },
   "outputs": [
    {
     "name": "stdout",
     "output_type": "stream",
     "text": [
      "Ensemble d'apprentissage n=202478 soit 0.54%, p=42\n",
      "Ensemble de test n=8148 soit 0.02%\n"
     ]
    }
   ],
   "source": [
    "print(\"Ensemble d'apprentissage n=%i soit %0.2f%%, p=%i\" \n",
    "      % (S_train.shape[0],100*S_train.shape[0]/float(n_train),S_train.shape[1]))\n",
    "print(\"Ensemble de test n=%i soit %0.2f%%\" \n",
    "      % (S_test.shape[0],100*S_test.shape[0]/float(n_train)))"
   ]
  },
  {
   "cell_type": "markdown",
   "metadata": {},
   "source": [
    "### Evaluation des predictions"
   ]
  },
  {
   "cell_type": "code",
   "execution_count": 81,
   "metadata": {
    "collapsed": true
   },
   "outputs": [],
   "source": [
    "import ml_metrics as metrics\n",
    "def mean_average_precision(target,predictions):\n",
    "    return metrics.mapk(target, predictions, k=5)"
   ]
  },
  {
   "cell_type": "code",
   "execution_count": 82,
   "metadata": {
    "collapsed": false
   },
   "outputs": [
    {
     "data": {
      "text/plain": [
       "[91, 41, 48, 64, 65]"
      ]
     },
     "execution_count": 82,
     "metadata": {},
     "output_type": "execute_result"
    }
   ],
   "source": [
    "top_5_clusters"
   ]
  },
  {
   "cell_type": "code",
   "execution_count": 83,
   "metadata": {
    "collapsed": false
   },
   "outputs": [
    {
     "name": "stdout",
     "output_type": "stream",
     "text": [
      "Score : 6.26 %\n"
     ]
    }
   ],
   "source": [
    "target = [[l] for l in S_test[\"hotel_cluster\"]]\n",
    "predictions = [top_5_clusters for i in range(S_test.shape[0])]\n",
    "score = mean_average_precision(target, predictions)\n",
    "print(\"Score : %0.2f %%\" % (100*score))"
   ]
  },
  {
   "cell_type": "code",
   "execution_count": 84,
   "metadata": {
    "collapsed": false
   },
   "outputs": [
    {
     "data": {
      "text/plain": [
       "[91, 48, 42, 59, 28]"
      ]
     },
     "execution_count": 84,
     "metadata": {},
     "output_type": "execute_result"
    }
   ],
   "source": [
    "top_5_clusters_booked"
   ]
  },
  {
   "cell_type": "code",
   "execution_count": 85,
   "metadata": {
    "collapsed": false
   },
   "outputs": [
    {
     "name": "stdout",
     "output_type": "stream",
     "text": [
      "Score : 7.45 %\n"
     ]
    }
   ],
   "source": [
    "target = [[l] for l in S_test[\"hotel_cluster\"]]\n",
    "predictions = [top_5_clusters_booked for i in range(S_test.shape[0])]\n",
    "score = mean_average_precision(target, predictions)\n",
    "print(\"Score : %0.2f %%\" % (100*score))"
   ]
  },
  {
   "cell_type": "code",
   "execution_count": null,
   "metadata": {
    "collapsed": true
   },
   "outputs": [],
   "source": []
  },
  {
   "cell_type": "code",
   "execution_count": null,
   "metadata": {
    "collapsed": true
   },
   "outputs": [],
   "source": []
  },
  {
   "cell_type": "markdown",
   "metadata": {},
   "source": [
    "# Making a Kaggle submission file"
   ]
  }
 ],
 "metadata": {
  "kernelspec": {
   "display_name": "Python 3",
   "language": "python",
   "name": "python3"
  },
  "language_info": {
   "codemirror_mode": {
    "name": "ipython",
    "version": 3
   },
   "file_extension": ".py",
   "mimetype": "text/x-python",
   "name": "python",
   "nbconvert_exporter": "python",
   "pygments_lexer": "ipython3",
   "version": "3.5.1"
  }
 },
 "nbformat": 4,
 "nbformat_minor": 0
}
